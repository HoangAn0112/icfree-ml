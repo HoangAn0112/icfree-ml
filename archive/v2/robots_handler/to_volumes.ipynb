{
 "cells": [
  {
   "cell_type": "code",
   "execution_count": 12,
   "metadata": {},
   "outputs": [],
   "source": [
    "from numpy import(\n",
    "    fromiter,\n",
    "    around, \n",
    "    shape,\n",
    "    reshape,\n",
    "    multiply\n",
    ")\n",
    "\n",
    "from pandas import (\n",
    "    read_csv,\n",
    "    DataFrame\n",
    ")\n",
    "\n",
    "import sys\n",
    "import os"
   ]
  },
  {
   "cell_type": "code",
   "execution_count": 13,
   "metadata": {},
   "outputs": [],
   "source": [
    "def input_importer(\n",
    "    input_file,\n",
    "    input_file_1, \n",
    "    input_file_2, \n",
    "    input_file_3) -> DataFrame:\n",
    "\n",
    "    input_df = read_csv(input_file, sep='\\t')\n",
    "    input_df_1 = read_csv(input_file_1, sep='\\t')\n",
    "    input_df_2 = read_csv(input_file_2, sep='\\t')\n",
    "    input_df_3 = read_csv(input_file_3, sep='\\t') \n",
    "\n",
    "    return input_df, input_df_1, input_df_2, input_df_3"
   ]
  },
  {
   "cell_type": "code",
   "execution_count": 14,
   "metadata": {},
   "outputs": [],
   "source": [
    "def volumes_array_generator(\n",
    "    input_df,\n",
    "    input_df_1, \n",
    "    input_df_2,\n",
    "    input_df_3,\n",
    "    sample_volume):\n",
    "\n",
    "    stock_concentrations_dict = dict(\n",
    "        input_df[['Parameter', 'Stock concentration']].to_numpy())\n",
    "    stock_concentrations_array = fromiter(\n",
    "        stock_concentrations_dict.values(),\n",
    "        dtype=float)\n",
    "    stock_concentrations_array = sample_volume / stock_concentrations_array / 0.0025\n",
    "\n",
    "    intial_set_volumes = (multiply(input_df_1, stock_concentrations_array)) * 0.0025\n",
    "    normalizer_set_volumes = (multiply(input_df_2, stock_concentrations_array)) * 0.0025\n",
    "    autofluorescence_set_volumes = (multiply(input_df_3, stock_concentrations_array)) * 0.0025\n",
    "\n",
    "    return intial_set_volumes, normalizer_set_volumes, autofluorescence_set_volumes"
   ]
  },
  {
   "cell_type": "code",
   "execution_count": 15,
   "metadata": {},
   "outputs": [],
   "source": [
    "def save_volumes_array(\n",
    "    input_df,\n",
    "    intial_set_volumes,\n",
    "    normalizer_set_volumes,\n",
    "    autofluorescence_set_volumes\n",
    "):\n",
    "\n",
    "    all_parameters = input_df['Parameter'].tolist()\n",
    "\n",
    "    initial_set_volumes = intial_set_volumes.to_csv(\n",
    "        'intial_set_volumes.tsv',\n",
    "        sep='\\t',\n",
    "        header=all_parameters,\n",
    "        index=False)\n",
    "\n",
    "    normalizer_set_volumes = normalizer_set_volumes.to_csv(\n",
    "        'normalizer_set_volumes.tsv',\n",
    "        sep='\\t',\n",
    "        header=all_parameters)\n",
    "\n",
    "    autolfuorescence_set_volumes = autofluorescence_set_volumes.to_csv(\n",
    "        'autofluorescence_set_volumes.tsv',\n",
    "        sep='\\t',\n",
    "        header=all_parameters,\n",
    "        index=False)\n",
    "    \n",
    "    return intial_set_volumes, normalizer_set_volumes, autofluorescence_set_volumes\n",
    "    "
   ]
  },
  {
   "cell_type": "code",
   "execution_count": 29,
   "metadata": {},
   "outputs": [
    {
     "ename": "KeyError",
     "evalue": "\"None of [Index(['Parameter', 'Stock concentration'], dtype='object')] are in the [columns]\"",
     "output_type": "error",
     "traceback": [
      "\u001b[0;31m---------------------------------------------------------------------------\u001b[0m",
      "\u001b[0;31mKeyError\u001b[0m                                  Traceback (most recent call last)",
      "\u001b[0;32m/var/folders/kk/69vs6hq94m3fbzdsnpzr75w00000gn/T/ipykernel_18749/1318002827.py\u001b[0m in \u001b[0;36m<module>\u001b[0;34m\u001b[0m\n\u001b[1;32m     20\u001b[0m \u001b[0;34m\u001b[0m\u001b[0m\n\u001b[1;32m     21\u001b[0m \u001b[0;32mif\u001b[0m \u001b[0m__name__\u001b[0m \u001b[0;34m==\u001b[0m \u001b[0;34m\"__main__\"\u001b[0m\u001b[0;34m:\u001b[0m\u001b[0;34m\u001b[0m\u001b[0;34m\u001b[0m\u001b[0m\n\u001b[0;32m---> 22\u001b[0;31m     \u001b[0mmain\u001b[0m\u001b[0;34m(\u001b[0m\u001b[0;34m)\u001b[0m\u001b[0;34m\u001b[0m\u001b[0;34m\u001b[0m\u001b[0m\n\u001b[0m",
      "\u001b[0;32m/var/folders/kk/69vs6hq94m3fbzdsnpzr75w00000gn/T/ipykernel_18749/1318002827.py\u001b[0m in \u001b[0;36mmain\u001b[0;34m()\u001b[0m\n\u001b[1;32m     12\u001b[0m     \u001b[0msample_volume\u001b[0m \u001b[0;34m=\u001b[0m \u001b[0;36m10.5\u001b[0m\u001b[0;34m\u001b[0m\u001b[0;34m\u001b[0m\u001b[0m\n\u001b[1;32m     13\u001b[0m \u001b[0;34m\u001b[0m\u001b[0m\n\u001b[0;32m---> 14\u001b[0;31m     \u001b[0mintial_set_volumes\u001b[0m \u001b[0;34m=\u001b[0m \u001b[0mvolumes_array_generator\u001b[0m\u001b[0;34m(\u001b[0m\u001b[0minput_df_1\u001b[0m\u001b[0;34m,\u001b[0m \u001b[0minput_df_2\u001b[0m\u001b[0;34m,\u001b[0m \u001b[0minput_df_3\u001b[0m\u001b[0;34m,\u001b[0m \u001b[0msample_volume\u001b[0m\u001b[0;34m)\u001b[0m\u001b[0;34m[\u001b[0m\u001b[0;36m0\u001b[0m\u001b[0;34m]\u001b[0m\u001b[0;34m\u001b[0m\u001b[0;34m\u001b[0m\u001b[0m\n\u001b[0m\u001b[1;32m     15\u001b[0m     \u001b[0mnormalizer_set_volumes\u001b[0m \u001b[0;34m=\u001b[0m \u001b[0mvolumes_array_generator\u001b[0m\u001b[0;34m(\u001b[0m\u001b[0minput_df_1\u001b[0m\u001b[0;34m,\u001b[0m \u001b[0minput_df_2\u001b[0m\u001b[0;34m,\u001b[0m \u001b[0minput_df_3\u001b[0m\u001b[0;34m,\u001b[0m \u001b[0msample_volume\u001b[0m\u001b[0;34m)\u001b[0m\u001b[0;34m[\u001b[0m\u001b[0;36m1\u001b[0m\u001b[0;34m]\u001b[0m\u001b[0;34m\u001b[0m\u001b[0;34m\u001b[0m\u001b[0m\n\u001b[1;32m     16\u001b[0m     \u001b[0mautofluorescence_set_volumes\u001b[0m\u001b[0;34m=\u001b[0m \u001b[0mvolumes_array_generator\u001b[0m\u001b[0;34m(\u001b[0m\u001b[0minput_df_1\u001b[0m\u001b[0;34m,\u001b[0m \u001b[0minput_df_2\u001b[0m\u001b[0;34m,\u001b[0m \u001b[0minput_df_3\u001b[0m\u001b[0;34m,\u001b[0m \u001b[0msample_volume\u001b[0m\u001b[0;34m)\u001b[0m\u001b[0;34m[\u001b[0m\u001b[0;36m2\u001b[0m\u001b[0;34m]\u001b[0m\u001b[0;34m\u001b[0m\u001b[0;34m\u001b[0m\u001b[0m\n",
      "\u001b[0;32m/var/folders/kk/69vs6hq94m3fbzdsnpzr75w00000gn/T/ipykernel_18749/949728796.py\u001b[0m in \u001b[0;36mvolumes_array_generator\u001b[0;34m(input_df_1, input_df_2, input_df_3, sample_volume)\u001b[0m\n\u001b[1;32m      6\u001b[0m \u001b[0;34m\u001b[0m\u001b[0m\n\u001b[1;32m      7\u001b[0m     stock_concentrations_dict = dict(\n\u001b[0;32m----> 8\u001b[0;31m         input_df_2[['Parameter', 'Stock concentration']].to_numpy())\n\u001b[0m\u001b[1;32m      9\u001b[0m     stock_concentrations_array = fromiter(\n\u001b[1;32m     10\u001b[0m         \u001b[0mstock_concentrations_dict\u001b[0m\u001b[0;34m.\u001b[0m\u001b[0mvalues\u001b[0m\u001b[0;34m(\u001b[0m\u001b[0;34m)\u001b[0m\u001b[0;34m,\u001b[0m\u001b[0;34m\u001b[0m\u001b[0;34m\u001b[0m\u001b[0m\n",
      "\u001b[0;32m~/miniconda3/lib/python3.9/site-packages/pandas/core/frame.py\u001b[0m in \u001b[0;36m__getitem__\u001b[0;34m(self, key)\u001b[0m\n\u001b[1;32m   3510\u001b[0m             \u001b[0;32mif\u001b[0m \u001b[0mis_iterator\u001b[0m\u001b[0;34m(\u001b[0m\u001b[0mkey\u001b[0m\u001b[0;34m)\u001b[0m\u001b[0;34m:\u001b[0m\u001b[0;34m\u001b[0m\u001b[0;34m\u001b[0m\u001b[0m\n\u001b[1;32m   3511\u001b[0m                 \u001b[0mkey\u001b[0m \u001b[0;34m=\u001b[0m \u001b[0mlist\u001b[0m\u001b[0;34m(\u001b[0m\u001b[0mkey\u001b[0m\u001b[0;34m)\u001b[0m\u001b[0;34m\u001b[0m\u001b[0;34m\u001b[0m\u001b[0m\n\u001b[0;32m-> 3512\u001b[0;31m             \u001b[0mindexer\u001b[0m \u001b[0;34m=\u001b[0m \u001b[0mself\u001b[0m\u001b[0;34m.\u001b[0m\u001b[0mcolumns\u001b[0m\u001b[0;34m.\u001b[0m\u001b[0m_get_indexer_strict\u001b[0m\u001b[0;34m(\u001b[0m\u001b[0mkey\u001b[0m\u001b[0;34m,\u001b[0m \u001b[0;34m\"columns\"\u001b[0m\u001b[0;34m)\u001b[0m\u001b[0;34m[\u001b[0m\u001b[0;36m1\u001b[0m\u001b[0;34m]\u001b[0m\u001b[0;34m\u001b[0m\u001b[0;34m\u001b[0m\u001b[0m\n\u001b[0m\u001b[1;32m   3513\u001b[0m \u001b[0;34m\u001b[0m\u001b[0m\n\u001b[1;32m   3514\u001b[0m         \u001b[0;31m# take() does not accept boolean indexers\u001b[0m\u001b[0;34m\u001b[0m\u001b[0;34m\u001b[0m\u001b[0;34m\u001b[0m\u001b[0m\n",
      "\u001b[0;32m~/miniconda3/lib/python3.9/site-packages/pandas/core/indexes/base.py\u001b[0m in \u001b[0;36m_get_indexer_strict\u001b[0;34m(self, key, axis_name)\u001b[0m\n\u001b[1;32m   5780\u001b[0m             \u001b[0mkeyarr\u001b[0m\u001b[0;34m,\u001b[0m \u001b[0mindexer\u001b[0m\u001b[0;34m,\u001b[0m \u001b[0mnew_indexer\u001b[0m \u001b[0;34m=\u001b[0m \u001b[0mself\u001b[0m\u001b[0;34m.\u001b[0m\u001b[0m_reindex_non_unique\u001b[0m\u001b[0;34m(\u001b[0m\u001b[0mkeyarr\u001b[0m\u001b[0;34m)\u001b[0m\u001b[0;34m\u001b[0m\u001b[0;34m\u001b[0m\u001b[0m\n\u001b[1;32m   5781\u001b[0m \u001b[0;34m\u001b[0m\u001b[0m\n\u001b[0;32m-> 5782\u001b[0;31m         \u001b[0mself\u001b[0m\u001b[0;34m.\u001b[0m\u001b[0m_raise_if_missing\u001b[0m\u001b[0;34m(\u001b[0m\u001b[0mkeyarr\u001b[0m\u001b[0;34m,\u001b[0m \u001b[0mindexer\u001b[0m\u001b[0;34m,\u001b[0m \u001b[0maxis_name\u001b[0m\u001b[0;34m)\u001b[0m\u001b[0;34m\u001b[0m\u001b[0;34m\u001b[0m\u001b[0m\n\u001b[0m\u001b[1;32m   5783\u001b[0m \u001b[0;34m\u001b[0m\u001b[0m\n\u001b[1;32m   5784\u001b[0m         \u001b[0mkeyarr\u001b[0m \u001b[0;34m=\u001b[0m \u001b[0mself\u001b[0m\u001b[0;34m.\u001b[0m\u001b[0mtake\u001b[0m\u001b[0;34m(\u001b[0m\u001b[0mindexer\u001b[0m\u001b[0;34m)\u001b[0m\u001b[0;34m\u001b[0m\u001b[0;34m\u001b[0m\u001b[0m\n",
      "\u001b[0;32m~/miniconda3/lib/python3.9/site-packages/pandas/core/indexes/base.py\u001b[0m in \u001b[0;36m_raise_if_missing\u001b[0;34m(self, key, indexer, axis_name)\u001b[0m\n\u001b[1;32m   5840\u001b[0m                 \u001b[0;32mif\u001b[0m \u001b[0muse_interval_msg\u001b[0m\u001b[0;34m:\u001b[0m\u001b[0;34m\u001b[0m\u001b[0;34m\u001b[0m\u001b[0m\n\u001b[1;32m   5841\u001b[0m                     \u001b[0mkey\u001b[0m \u001b[0;34m=\u001b[0m \u001b[0mlist\u001b[0m\u001b[0;34m(\u001b[0m\u001b[0mkey\u001b[0m\u001b[0;34m)\u001b[0m\u001b[0;34m\u001b[0m\u001b[0;34m\u001b[0m\u001b[0m\n\u001b[0;32m-> 5842\u001b[0;31m                 \u001b[0;32mraise\u001b[0m \u001b[0mKeyError\u001b[0m\u001b[0;34m(\u001b[0m\u001b[0;34mf\"None of [{key}] are in the [{axis_name}]\"\u001b[0m\u001b[0;34m)\u001b[0m\u001b[0;34m\u001b[0m\u001b[0;34m\u001b[0m\u001b[0m\n\u001b[0m\u001b[1;32m   5843\u001b[0m \u001b[0;34m\u001b[0m\u001b[0m\n\u001b[1;32m   5844\u001b[0m             \u001b[0mnot_found\u001b[0m \u001b[0;34m=\u001b[0m \u001b[0mlist\u001b[0m\u001b[0;34m(\u001b[0m\u001b[0mensure_index\u001b[0m\u001b[0;34m(\u001b[0m\u001b[0mkey\u001b[0m\u001b[0;34m)\u001b[0m\u001b[0;34m[\u001b[0m\u001b[0mmissing_mask\u001b[0m\u001b[0;34m.\u001b[0m\u001b[0mnonzero\u001b[0m\u001b[0;34m(\u001b[0m\u001b[0;34m)\u001b[0m\u001b[0;34m[\u001b[0m\u001b[0;36m0\u001b[0m\u001b[0;34m]\u001b[0m\u001b[0;34m]\u001b[0m\u001b[0;34m.\u001b[0m\u001b[0munique\u001b[0m\u001b[0;34m(\u001b[0m\u001b[0;34m)\u001b[0m\u001b[0;34m)\u001b[0m\u001b[0;34m\u001b[0m\u001b[0;34m\u001b[0m\u001b[0m\n",
      "\u001b[0;31mKeyError\u001b[0m: \"None of [Index(['Parameter', 'Stock concentration'], dtype='object')] are in the [columns]\""
     ]
    }
   ],
   "source": [
    "def main():\n",
    "    input_file = 'proCFPS_parameters.tsv'\n",
    "    input_file_1 = 'initial_training_set.tsv'\n",
    "    input_file_2 = 'normalizer_set.tsv'\n",
    "    input_file_3 = 'autofluorescence_set.tsv'\n",
    "        \n",
    "    input_df = input_importer(input_file, input_file_1, input_file_2, input_file_3)[0]\n",
    "    input_df_1 = input_importer(input_file, input_file_1, input_file_2, input_file_3)[1]\n",
    "    input_df_2 = input_importer(input_file, input_file_1, input_file_2, input_file_3)[2]\n",
    "    input_df_3 = input_importer(input_file, input_file_1, input_file_2, input_file_3)[3]\n",
    "\n",
    "    sample_volume = 10.5\n",
    "\n",
    "    intial_set_volumes = volumes_array_generator(input_df, input_df_1, input_df_2, input_df_3, sample_volume)[0]\n",
    "    normalizer_set_volumes = volumes_array_generator(input_df, input_df_1, input_df_2, input_df_3, sample_volume)[1]\n",
    "    autofluorescence_set_volumes= volumes_array_generator(input_df, input_df_1, input_df_2, input_df_3, sample_volume)[2]\n",
    "\n",
    "    save_volumes_array(input_df, intial_set_volumes, normalizer_set_volumes, autofluorescence_set_volumes)\n",
    "    # print(os.getcwd())\n",
    "\n",
    "if __name__ == \"__main__\":\n",
    "    main()"
   ]
  }
 ],
 "metadata": {
  "interpreter": {
   "hash": "bef406ae0ad1ee1b77d8e3df0c6c97cb16cb381fd7d33d12af4c9f531e551d56"
  },
  "kernelspec": {
   "display_name": "Python 3.9.5 64-bit ('base': conda)",
   "language": "python",
   "name": "python3"
  },
  "language_info": {
   "codemirror_mode": {
    "name": "ipython",
    "version": 3
   },
   "file_extension": ".py",
   "mimetype": "text/x-python",
   "name": "python",
   "nbconvert_exporter": "python",
   "pygments_lexer": "ipython3",
   "version": "3.9.5"
  },
  "orig_nbformat": 4
 },
 "nbformat": 4,
 "nbformat_minor": 2
}
