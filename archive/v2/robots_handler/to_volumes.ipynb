{
 "cells": [
  {
   "cell_type": "code",
   "execution_count": 12,
   "metadata": {},
   "outputs": [],
   "source": [
    "from numpy import(\n",
    "    fromiter,\n",
    "    around, \n",
    "    shape,\n",
    "    reshape,\n",
    "    multiply\n",
    ")\n",
    "\n",
    "from pandas import (\n",
    "    read_csv,\n",
    "    DataFrame\n",
    ")\n",
    "\n",
    "import sys\n",
    "import os"
   ]
  },
  {
   "cell_type": "code",
   "execution_count": 13,
   "metadata": {},
   "outputs": [],
   "source": [
    "def input_importer(\n",
    "    input_file,\n",
    "    input_file_1, \n",
    "    input_file_2, \n",
    "    input_file_3) -> DataFrame:\n",
    "\n",
    "    input_df = read_csv(input_file, sep='\\t')\n",
    "    input_df_1 = read_csv(input_file_1, sep='\\t')\n",
    "    input_df_2 = read_csv(input_file_2, sep='\\t')\n",
    "    input_df_3 = read_csv(input_file_3, sep='\\t') \n",
    "\n",
    "    return input_df, input_df_1, input_df_2, input_df_3"
   ]
  },
  {
   "cell_type": "code",
   "execution_count": 31,
   "metadata": {},
   "outputs": [],
   "source": [
    "def volumes_array_generator(\n",
    "    input_df,\n",
    "    input_df_1, \n",
    "    input_df_2,\n",
    "    input_df_3,\n",
    "    sample_volume):\n",
    "\n",
    "    stock_concentrations_dict = dict(\n",
    "        input_df[['Parameter', 'Stock concentration']].to_numpy())\n",
    "    stock_concentrations_array = fromiter(\n",
    "        stock_concentrations_dict.values(),\n",
    "        dtype=float)\n",
    "    stock_concentrations_array = sample_volume / stock_concentrations_array / 0.0025\n",
    "\n",
    "    intial_set_volumes = (multiply(input_df_1, stock_concentrations_array)) * 0.0025\n",
    "    normalizer_set_volumes = (multiply(input_df_2, stock_concentrations_array)) * 0.0025\n",
    "    autofluorescence_set_volumes = (multiply(input_df_3, stock_concentrations_array)) * 0.0025\n",
    "\n",
    "    return intial_set_volumes, normalizer_set_volumes, autofluorescence_set_volumes"
   ]
  },
  {
   "cell_type": "code",
   "execution_count": 15,
   "metadata": {},
   "outputs": [],
   "source": [
    "def save_volumes_array(\n",
    "    input_df,\n",
    "    intial_set_volumes,\n",
    "    normalizer_set_volumes,\n",
    "    autofluorescence_set_volumes\n",
    "):\n",
    "\n",
    "    all_parameters = input_df['Parameter'].tolist()\n",
    "\n",
    "    initial_set_volumes = intial_set_volumes.to_csv(\n",
    "        'intial_set_volumes.tsv',\n",
    "        sep='\\t',\n",
    "        header=all_parameters,\n",
    "        index=False)\n",
    "\n",
    "    normalizer_set_volumes = normalizer_set_volumes.to_csv(\n",
    "        'normalizer_set_volumes.tsv',\n",
    "        sep='\\t',\n",
    "        header=all_parameters)\n",
    "\n",
    "    autolfuorescence_set_volumes = autofluorescence_set_volumes.to_csv(\n",
    "        'autofluorescence_set_volumes.tsv',\n",
    "        sep='\\t',\n",
    "        header=all_parameters,\n",
    "        index=False)\n",
    "    \n",
    "    return intial_set_volumes, normalizer_set_volumes, autofluorescence_set_volumes\n",
    "    "
   ]
  },
  {
   "cell_type": "code",
   "execution_count": 35,
   "metadata": {},
   "outputs": [],
   "source": [
    "def main():\n",
    "    input_file = 'proCFPS_parameters.tsv'\n",
    "    input_file_1 = 'initial_training_set.tsv'\n",
    "    input_file_2 = 'normalizer_set.tsv'\n",
    "    input_file_3 = 'autofluorescence_set.tsv'\n",
    "        \n",
    "    input_df = input_importer(input_file, input_file_1, input_file_2, input_file_3)[0]\n",
    "    input_df_1 = input_importer(input_file, input_file_1, input_file_2, input_file_3)[1]\n",
    "    input_df_2 = input_importer(input_file, input_file_1, input_file_2, input_file_3)[2]\n",
    "    input_df_3 = input_importer(input_file, input_file_1, input_file_2, input_file_3)[3]\n",
    "\n",
    "    sample_volume = 10.5\n",
    "\n",
    "    intial_set_volumes = volumes_array_generator(input_df, input_df_1, input_df_2, input_df_3, sample_volume)[0]\n",
    "    normalizer_set_volumes = volumes_array_generator(input_df, input_df_1, input_df_2, input_df_3, sample_volume)[1]\n",
    "    autofluorescence_set_volumes= volumes_array_generator(input_df, input_df_1, input_df_2, input_df_3, sample_volume)[2]\n",
    "\n",
    "    save_volumes_array(input_df, intial_set_volumes, normalizer_set_volumes, autofluorescence_set_volumes)\n",
    "    # print(os.getcwd())\n",
    "\n",
    "if __name__ == \"__main__\":\n",
    "    main()"
   ]
  }
 ],
 "metadata": {
  "interpreter": {
   "hash": "bef406ae0ad1ee1b77d8e3df0c6c97cb16cb381fd7d33d12af4c9f531e551d56"
  },
  "kernelspec": {
   "display_name": "Python 3.9.5 64-bit ('base': conda)",
   "language": "python",
   "name": "python3"
  },
  "language_info": {
   "codemirror_mode": {
    "name": "ipython",
    "version": 3
   },
   "file_extension": ".py",
   "mimetype": "text/x-python",
   "name": "python",
   "nbconvert_exporter": "python",
   "pygments_lexer": "ipython3",
   "version": "3.9.5"
  },
  "orig_nbformat": 4
 },
 "nbformat": 4,
 "nbformat_minor": 2
}
