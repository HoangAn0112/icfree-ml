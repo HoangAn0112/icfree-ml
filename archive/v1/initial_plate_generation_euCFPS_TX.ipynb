{
 "cells": [
  {
   "cell_type": "raw",
   "metadata": {},
   "source": [
    "Yorgo EL MOUBAYED, INRAe, BRS group"
   ]
  },
  {
   "cell_type": "markdown",
   "metadata": {},
   "source": [
    "The aim of this notebook is to generate the initial training set (or initial plate) for the subsequent active learning loop."
   ]
  },
  {
   "cell_type": "markdown",
   "metadata": {},
   "source": [
    "# Python libraries imports"
   ]
  },
  {
   "cell_type": "code",
   "execution_count": 1,
   "metadata": {},
   "outputs": [],
   "source": [
    "import numpy as np\n",
    "import random"
   ]
  },
  {
   "cell_type": "markdown",
   "metadata": {},
   "source": [
    "# Create a folder to save the resulting dataset"
   ]
  },
  {
   "cell_type": "code",
   "execution_count": 2,
   "metadata": {},
   "outputs": [],
   "source": [
    "data_folder = \"echo_files\""
   ]
  },
  {
   "cell_type": "markdown",
   "metadata": {},
   "source": [
    "**Important**  \n",
    "The seed was not set when the file was first executed.  \n",
    "The concentrations used for the initial plate in the paper can be found in **data/plate_AL_1_raw_everything.csv**."
   ]
  },
  {
   "cell_type": "markdown",
   "metadata": {},
   "source": [
    "**Caution**  \n",
    "When you run the code under the pre-existing files architecture, the results are overwritten in the **initial_plate.csv** dataset."
   ]
  },
  {
   "cell_type": "markdown",
   "metadata": {},
   "source": [
    "# Defining the tested concentrations and volumes"
   ]
  },
  {
   "cell_type": "markdown",
   "metadata": {},
   "source": [
    "The concentrations below are defined as a proportion of the maximum allowed concentration."
   ]
  },
  {
   "cell_type": "code",
   "execution_count": 3,
   "metadata": {},
   "outputs": [],
   "source": [
    "# Allowed concentration ratios for each component. Mostly, four ratios were chosen for each component.\n",
    "\n",
    "rATP_ratios = [0.2, 0.4, 0.6, 1]\n",
    "rCTP_ratios = [0.2, 0.4, 0.6, 1]\n",
    "rGTP_ratios = [0.2, 0.4, 0.6, 1]\n",
    "rUTP_ratios = [0.2, 0.4, 0.6, 1]\n",
    "DNA_ratios = [0.1, 0.3, 0.5, 1]\n",
    "T7_RNA_polymerase_ratios = [0.1, 0.3, 0.5, 1]\n",
    "RNasin_ratios = [0.1, 0.3, 0.5, 1]\n",
    "Spermidine_ratios = [0.1, 0.3, 0.5, 1]\n",
    "DTT_ratios = [0.1, 0.3, 0.5, 1]\n",
    "NaCl_ratios = [0.1, 0.3, 0.5, 1]\n",
    "Tris_HCl_ratios = [0.1, 0.3, 0.5, 1]\n",
    "MgCl2_ratios = [0.1, 0.3, 0.5, 1]"
   ]
  },
  {
   "cell_type": "code",
   "execution_count": 4,
   "metadata": {},
   "outputs": [],
   "source": [
    "# Maximum concentration for each component. Resulting concentration = Maximum concentration * Ratio.\n",
    "\n",
    "rATP_max = 4\n",
    "rCTP_max = 4\n",
    "rGTP_max = 4\n",
    "rUTP_max = 4\n",
    "DNA_max = 10\n",
    "T7_RNA_polymerase_max = 40\n",
    "RNasin_max = 40\n",
    "Spermidine_max = 10\n",
    "DTT_max = 10\n",
    "NaCl_max = 50\n",
    "Tris_HCl_max = 100\n",
    "MgCl2_max = 100"
   ]
  },
  {
   "cell_type": "markdown",
   "metadata": {},
   "source": [
    "# Defining control samples (maximum and autofluorescence)"
   ]
  },
  {
   "cell_type": "markdown",
   "metadata": {},
   "source": [
    "This defines the control samples (reference) used in the first plate, that have maximum concentrations for all components. \n",
    "The autofluorescence **<sup>1</sup>** control has no DNA. **<sup>1</sup>** is the fluorescence measured in the cell-free reaction supplemented with water and using the reference composition."
   ]
  },
  {
   "cell_type": "code",
   "execution_count": 5,
   "metadata": {},
   "outputs": [],
   "source": [
    "# Reference extract where all components are at the maximum concentrations.\n",
    "\n",
    "maximum_extract = np.ones((1, 12), dtype = 'int')\n",
    "\n",
    "max_sample_conc = [maximum_extract[0, 0] * rATP_max, \n",
    "                   maximum_extract[0, 1] * rCTP_max, \n",
    "                   maximum_extract[0, 2] * rGTP_max,\n",
    "                   maximum_extract[0, 3] * rUTP_max,\n",
    "                   maximum_extract[0, 4] * DNA_max,\n",
    "                   maximum_extract[0, 5] * T7_RNA_polymerase_max,\n",
    "                   maximum_extract[0, 6] * RNasin_max,\n",
    "                   maximum_extract[0, 7] * Spermidine_max,\n",
    "                   maximum_extract[0, 8] * DTT_max,\n",
    "                   maximum_extract[0, 9] * NaCl_max,\n",
    "                   maximum_extract[0, 10] * Tris_HCl_max,\n",
    "                   maximum_extract[0, 11] * MgCl2_max\n",
    "                  ]"
   ]
  },
  {
   "cell_type": "code",
   "execution_count": 6,
   "metadata": {},
   "outputs": [],
   "source": [
    "# Reference autofluorescence extract \n",
    "\n",
    "autofluorescence_extract = np.ones((1, 12), dtype = 'int')\n",
    "\n",
    "autofluorescence_sample_conc = [autofluorescence_extract[0, 0] * rATP_max, \n",
    "                                autofluorescence_extract[0, 1] * rCTP_max, \n",
    "                                autofluorescence_extract[0, 2] * rGTP_max,\n",
    "                                autofluorescence_extract[0, 3] * rUTP_max,\n",
    "                                autofluorescence_extract[0, 4] * 0, # No DNA in the autofluorescence control,\n",
    "                                autofluorescence_extract[0, 5] * RNasin_max,\n",
    "                                autofluorescence_extract[0, 6] * T7_RNA_polymerase_max,\n",
    "                                autofluorescence_extract[0, 7] * Spermidine_max,\n",
    "                                autofluorescence_extract[0, 8] * DTT_max,\n",
    "                                autofluorescence_extract[0, 9] * NaCl_max,\n",
    "                                autofluorescence_extract[0, 10] * Tris_HCl_max,\n",
    "                                autofluorescence_extract[0, 11] * MgCl2_max\n",
    "                               ]"
   ]
  },
  {
   "cell_type": "code",
   "execution_count": 7,
   "metadata": {},
   "outputs": [],
   "source": [
    "max_sample_conc = np.reshape(max_sample_conc, (1, 12))\n",
    "\n",
    "autofluorescence_sample_conc = np.asarray(autofluorescence_sample_conc)\n",
    "autofluorescence_sample_conc = np.reshape(autofluorescence_sample_conc, (1, 12))\n",
    "\n",
    "ctrl_array = max_sample_conc\n",
    "ctrl_array = np.concatenate((ctrl_array, autofluorescence_sample_conc), axis = 0)"
   ]
  },
  {
   "cell_type": "markdown",
   "metadata": {},
   "source": [
    "# All components at maximum, except one at minimum "
   ]
  },
  {
   "cell_type": "markdown",
   "metadata": {},
   "source": [
    "This defines a set of combinations for the initial plate as follows:  \n",
    "* 10 forced combinations: All the components are at the maximum concentration, except one at the minimum.\n",
    "* 1  forced comibnation: All the components are at the maximum concentration."
   ]
  },
  {
   "cell_type": "code",
   "execution_count": 8,
   "metadata": {},
   "outputs": [],
   "source": [
    "all_max_except_one_low = max_sample_conc"
   ]
  },
  {
   "cell_type": "code",
   "execution_count": 9,
   "metadata": {},
   "outputs": [],
   "source": [
    "rATP = rATP_ratios[-1]\n",
    "rCTP = rCTP_ratios[-1]\n",
    "rGTP = rGTP_ratios[-1]\n",
    "rUTP = rUTP_ratios[-1]\n",
    "DNA = DNA_ratios[-1]\n",
    "T7_RNA_polymerase = T7_RNA_polymerase_ratios[-1]\n",
    "RNasin = RNasin_ratios[-1]\n",
    "Spermidine = Spermidine_ratios[-1]\n",
    "DTT = DTT_ratios[-1]\n",
    "NaCl = NaCl_ratios[-1]\n",
    "Tris_HCl = Tris_HCl_ratios[-1]\n",
    "MgCl2 = MgCl2_ratios[-1]"
   ]
  },
  {
   "cell_type": "code",
   "execution_count": 10,
   "metadata": {},
   "outputs": [],
   "source": [
    "this_sample_conc = [0.2 * rATP_max,\n",
    "                    rCTP * rCTP_max,\n",
    "                    rGTP * rGTP_max,\n",
    "                    rUTP * rUTP_max,\n",
    "                    DNA * DNA_max,\n",
    "                    RNasin * RNasin_max,\n",
    "                    T7_RNA_polymerase * T7_RNA_polymerase_max,\n",
    "                    Spermidine * Spermidine_max,\n",
    "                    DTT * DTT_max,\n",
    "                    NaCl * NaCl_max,\n",
    "                    Tris_HCl * Tris_HCl_max,\n",
    "                    MgCl2 * MgCl2_max]\n",
    "\n",
    "this_sample_conc = np.reshape(this_sample_conc, (1, 12)) \n",
    "all_max_except_one_low = np.concatenate((all_max_except_one_low, this_sample_conc), axis = 0)"
   ]
  },
  {
   "cell_type": "code",
   "execution_count": 11,
   "metadata": {},
   "outputs": [],
   "source": [
    "this_sample_conc = [rATP * rATP_max,\n",
    "                    0.2 * rCTP_max,\n",
    "                    rGTP * rGTP_max,\n",
    "                    rUTP * rUTP_max,\n",
    "                    DNA * DNA_max,\n",
    "                    RNasin * RNasin_max,\n",
    "                    T7_RNA_polymerase * T7_RNA_polymerase_max,\n",
    "                    Spermidine * Spermidine_max,\n",
    "                    DTT * DTT_max,\n",
    "                    NaCl * NaCl_max,\n",
    "                    Tris_HCl * Tris_HCl_max,\n",
    "                    MgCl2 * MgCl2_max]\n",
    "\n",
    "this_sample_conc = np.reshape(this_sample_conc, (1, 12)) \n",
    "all_max_except_one_low = np.concatenate((all_max_except_one_low, this_sample_conc), axis = 0)"
   ]
  },
  {
   "cell_type": "code",
   "execution_count": 12,
   "metadata": {},
   "outputs": [],
   "source": [
    "this_sample_conc = [rATP * rATP_max,\n",
    "                    rCTP * rCTP_max,\n",
    "                    0.2 * rGTP_max,\n",
    "                    rUTP * rUTP_max,\n",
    "                    DNA * DNA_max,\n",
    "                    RNasin * RNasin_max,\n",
    "                    T7_RNA_polymerase * T7_RNA_polymerase_max,\n",
    "                    Spermidine * Spermidine_max,\n",
    "                    DTT * DTT_max,\n",
    "                    NaCl * NaCl_max,\n",
    "                    Tris_HCl * Tris_HCl_max,\n",
    "                    MgCl2 * MgCl2_max]\n",
    "\n",
    "this_sample_conc = np.reshape(this_sample_conc, (1, 12)) \n",
    "all_max_except_one_low = np.concatenate((all_max_except_one_low, this_sample_conc), axis = 0)"
   ]
  },
  {
   "cell_type": "code",
   "execution_count": 13,
   "metadata": {},
   "outputs": [],
   "source": [
    "this_sample_conc = [rATP * rATP_max,\n",
    "                    rCTP * rCTP_max,\n",
    "                    rGTP * rGTP_max,\n",
    "                    0.2 * rUTP_max,\n",
    "                    DNA * DNA_max,\n",
    "                    RNasin * RNasin_max,\n",
    "                    T7_RNA_polymerase * T7_RNA_polymerase_max,\n",
    "                    Spermidine * Spermidine_max,\n",
    "                    DTT * DTT_max,\n",
    "                    NaCl * NaCl_max,\n",
    "                    Tris_HCl * Tris_HCl_max,\n",
    "                    MgCl2 * MgCl2_max]\n",
    "\n",
    "this_sample_conc = np.reshape(this_sample_conc, (1, 12)) \n",
    "all_max_except_one_low = np.concatenate((all_max_except_one_low, this_sample_conc), axis = 0)"
   ]
  },
  {
   "cell_type": "code",
   "execution_count": 14,
   "metadata": {},
   "outputs": [],
   "source": [
    "this_sample_conc = [rATP * rATP_max,\n",
    "                    rCTP * rCTP_max,\n",
    "                    rGTP * rGTP_max,\n",
    "                    rUTP * rUTP_max,\n",
    "                    0.1 * DNA_max,\n",
    "                    RNasin * RNasin_max,\n",
    "                    T7_RNA_polymerase * T7_RNA_polymerase_max,\n",
    "                    Spermidine * Spermidine_max,\n",
    "                    DTT * DTT_max,\n",
    "                    NaCl * NaCl_max,\n",
    "                    Tris_HCl * Tris_HCl_max,\n",
    "                    MgCl2 * MgCl2_max]\n",
    "\n",
    "this_sample_conc = np.reshape(this_sample_conc, (1, 12)) \n",
    "all_max_except_one_low = np.concatenate((all_max_except_one_low, this_sample_conc), axis = 0)"
   ]
  },
  {
   "cell_type": "code",
   "execution_count": 15,
   "metadata": {},
   "outputs": [],
   "source": [
    "this_sample_conc = [rATP * rATP_max,\n",
    "                    rCTP * rCTP_max,\n",
    "                    rGTP * rGTP_max,\n",
    "                    rUTP * rUTP_max,\n",
    "                    DNA * DNA_max,\n",
    "                    0.1 * RNasin_max,\n",
    "                    T7_RNA_polymerase * T7_RNA_polymerase_max,\n",
    "                    Spermidine * Spermidine_max,\n",
    "                    DTT * DTT_max,\n",
    "                    NaCl * NaCl_max,\n",
    "                    Tris_HCl * Tris_HCl_max,\n",
    "                    MgCl2 * MgCl2_max]\n",
    "\n",
    "this_sample_conc = np.reshape(this_sample_conc, (1, 12)) \n",
    "all_max_except_one_low = np.concatenate((all_max_except_one_low, this_sample_conc), axis = 0)"
   ]
  },
  {
   "cell_type": "code",
   "execution_count": 16,
   "metadata": {},
   "outputs": [],
   "source": [
    "this_sample_conc = [rATP * rATP_max,\n",
    "                    rCTP * rCTP_max,\n",
    "                    rGTP * rGTP_max,\n",
    "                    rUTP * rUTP_max,\n",
    "                    DNA * DNA_max,\n",
    "                    RNasin * RNasin_max,\n",
    "                    0.1 * T7_RNA_polymerase_max,\n",
    "                    Spermidine * Spermidine_max,\n",
    "                    DTT * DTT_max,\n",
    "                    NaCl * NaCl_max,\n",
    "                    Tris_HCl * Tris_HCl_max,\n",
    "                    MgCl2 * MgCl2_max]\n",
    "\n",
    "this_sample_conc = np.reshape(this_sample_conc, (1, 12)) \n",
    "all_max_except_one_low = np.concatenate((all_max_except_one_low, this_sample_conc), axis = 0)"
   ]
  },
  {
   "cell_type": "code",
   "execution_count": 17,
   "metadata": {},
   "outputs": [],
   "source": [
    "this_sample_conc = [rATP * rATP_max,\n",
    "                    rCTP * rCTP_max,\n",
    "                    rGTP * rGTP_max,\n",
    "                    rUTP * rUTP_max,\n",
    "                    DNA * DNA_max,\n",
    "                    RNasin * RNasin_max,\n",
    "                    T7_RNA_polymerase * T7_RNA_polymerase_max,\n",
    "                    0.1 * Spermidine_max,\n",
    "                    DTT * DTT_max,\n",
    "                    NaCl * NaCl_max,\n",
    "                    Tris_HCl * Tris_HCl_max,\n",
    "                    MgCl2 * MgCl2_max]\n",
    "\n",
    "this_sample_conc = np.reshape(this_sample_conc, (1, 12)) \n",
    "all_max_except_one_low = np.concatenate((all_max_except_one_low, this_sample_conc), axis = 0)"
   ]
  },
  {
   "cell_type": "code",
   "execution_count": 18,
   "metadata": {},
   "outputs": [],
   "source": [
    "this_sample_conc = [rATP * rATP_max,\n",
    "                    rCTP * rCTP_max,\n",
    "                    rGTP * rGTP_max,\n",
    "                    rUTP * rUTP_max,\n",
    "                    DNA * DNA_max,\n",
    "                    RNasin * RNasin_max,\n",
    "                    T7_RNA_polymerase * T7_RNA_polymerase_max,\n",
    "                    Spermidine * Spermidine_max,\n",
    "                    0.1 * DTT_max,\n",
    "                    NaCl * NaCl_max,\n",
    "                    Tris_HCl * Tris_HCl_max,\n",
    "                    MgCl2 * MgCl2_max]\n",
    "\n",
    "this_sample_conc = np.reshape(this_sample_conc, (1, 12)) \n",
    "all_max_except_one_low = np.concatenate((all_max_except_one_low, this_sample_conc), axis = 0)"
   ]
  },
  {
   "cell_type": "code",
   "execution_count": 19,
   "metadata": {},
   "outputs": [],
   "source": [
    "this_sample_conc = [rATP * rATP_max,\n",
    "                    rCTP * rCTP_max,\n",
    "                    rGTP * rGTP_max,\n",
    "                    rUTP * rUTP_max,\n",
    "                    DNA * DNA_max,\n",
    "                    RNasin * RNasin_max,\n",
    "                    T7_RNA_polymerase * T7_RNA_polymerase_max,\n",
    "                    Spermidine * Spermidine_max,\n",
    "                    DTT * DTT_max,\n",
    "                    0.1 * NaCl_max,\n",
    "                    Tris_HCl * Tris_HCl_max,\n",
    "                    MgCl2 * MgCl2_max]\n",
    "\n",
    "this_sample_conc = np.reshape(this_sample_conc, (1, 12)) \n",
    "all_max_except_one_low = np.concatenate((all_max_except_one_low, this_sample_conc), axis = 0)"
   ]
  },
  {
   "cell_type": "code",
   "execution_count": 20,
   "metadata": {},
   "outputs": [],
   "source": [
    "this_sample_conc = [rATP * rATP_max,\n",
    "                    rCTP * rCTP_max,\n",
    "                    rGTP * rGTP_max,\n",
    "                    rUTP * rUTP_max,\n",
    "                    DNA * DNA_max,\n",
    "                    RNasin * RNasin_max,\n",
    "                    T7_RNA_polymerase * T7_RNA_polymerase_max,\n",
    "                    Spermidine * Spermidine_max,\n",
    "                    DTT * DTT_max,\n",
    "                    NaCl * NaCl_max,\n",
    "                    0.1 * Tris_HCl_max,\n",
    "                    MgCl2 * MgCl2_max]\n",
    "\n",
    "this_sample_conc = np.reshape(this_sample_conc, (1, 12)) \n",
    "all_max_except_one_low = np.concatenate((all_max_except_one_low, this_sample_conc), axis = 0)"
   ]
  },
  {
   "cell_type": "code",
   "execution_count": 21,
   "metadata": {},
   "outputs": [],
   "source": [
    "this_sample_conc = [rATP * rATP_max,\n",
    "                    rCTP * rCTP_max,\n",
    "                    rGTP * rGTP_max,\n",
    "                    rUTP * rUTP_max,\n",
    "                    DNA * DNA_max,\n",
    "                    RNasin * RNasin_max,\n",
    "                    T7_RNA_polymerase * T7_RNA_polymerase_max,\n",
    "                    Spermidine * Spermidine_max,\n",
    "                    DTT * DTT_max,\n",
    "                    NaCl * NaCl_max,\n",
    "                    Tris_HCl * Tris_HCl_max,\n",
    "                    0.1 * MgCl2_max]\n",
    "\n",
    "this_sample_conc = np.reshape(this_sample_conc, (1, 12)) \n",
    "all_max_except_one_low = np.concatenate((all_max_except_one_low, this_sample_conc), axis = 0)"
   ]
  },
  {
   "cell_type": "code",
   "execution_count": 22,
   "metadata": {},
   "outputs": [],
   "source": [
    "this_sample_conc = [rATP * rATP_max,\n",
    "                    rCTP * rCTP_max,\n",
    "                    rGTP * rGTP_max,\n",
    "                    rUTP * rUTP_max,\n",
    "                    DNA * DNA_max,\n",
    "                    RNasin * RNasin_max,\n",
    "                    T7_RNA_polymerase * T7_RNA_polymerase_max,\n",
    "                    Spermidine * Spermidine_max,\n",
    "                    DTT * DTT_max,\n",
    "                    NaCl * NaCl_max,\n",
    "                    Tris_HCl * Tris_HCl_max,\n",
    "                    MgCl2 * MgCl2_max]\n",
    "\n",
    "this_sample_conc = np.reshape(this_sample_conc, (1, 12)) \n",
    "all_max_except_one_low = np.concatenate((all_max_except_one_low, this_sample_conc), axis = 0)"
   ]
  },
  {
   "cell_type": "code",
   "execution_count": 23,
   "metadata": {},
   "outputs": [
    {
     "name": "stdout",
     "output_type": "stream",
     "text": [
      "(14, 12)\n"
     ]
    }
   ],
   "source": [
    "print(all_max_except_one_low.shape)"
   ]
  },
  {
   "cell_type": "markdown",
   "metadata": {},
   "source": [
    "# All components at minimum, except one at maximum "
   ]
  },
  {
   "cell_type": "markdown",
   "metadata": {},
   "source": [
    "This defines a set of combinations for the initial plate as follows:  \n",
    "* 10 forced combinations: All the components are at the minimum concentration, except one at the maximum.\n",
    "* 1  forced comibnation: All the components are at the minimum concentration."
   ]
  },
  {
   "cell_type": "code",
   "execution_count": 24,
   "metadata": {},
   "outputs": [],
   "source": [
    "all_min_except_one_high = this_sample_conc"
   ]
  },
  {
   "cell_type": "code",
   "execution_count": 25,
   "metadata": {},
   "outputs": [],
   "source": [
    "rATP = rATP_ratios[0]\n",
    "rCTP = rCTP_ratios[0]\n",
    "rGTP = rGTP_ratios[0]\n",
    "rUTP = rUTP_ratios[0]\n",
    "DNA = DNA_ratios[0]\n",
    "T7_RNA_polymerase = T7_RNA_polymerase_ratios[0]\n",
    "RNasin = RNasin_ratios[0]\n",
    "Spermidine = Spermidine_ratios[0]\n",
    "DTT = DTT_ratios[0]\n",
    "NaCl = NaCl_ratios[0]\n",
    "Tris_HCl = Tris_HCl_ratios[0]\n",
    "MgCl2 = MgCl2_ratios[0]"
   ]
  },
  {
   "cell_type": "code",
   "execution_count": 26,
   "metadata": {},
   "outputs": [],
   "source": [
    "this_sample_conc = [1 * rATP_max,\n",
    "                    rCTP * rCTP_max,\n",
    "                    rGTP * rGTP_max,\n",
    "                    rUTP * rUTP_max,\n",
    "                    DNA * DNA_max,\n",
    "                    RNasin * RNasin_max,\n",
    "                    T7_RNA_polymerase * T7_RNA_polymerase_max,\n",
    "                    Spermidine * Spermidine_max,\n",
    "                    DTT * DTT_max,\n",
    "                    NaCl * NaCl_max,\n",
    "                    Tris_HCl * Tris_HCl_max,\n",
    "                    MgCl2 * MgCl2_max]\n",
    "\n",
    "this_sample_conc = np.reshape(this_sample_conc, (1, 12)) \n",
    "all_min_except_one_high = np.concatenate((all_min_except_one_high, this_sample_conc), axis = 0)"
   ]
  },
  {
   "cell_type": "code",
   "execution_count": 27,
   "metadata": {},
   "outputs": [],
   "source": [
    "this_sample_conc = [rATP * rATP_max,\n",
    "                    1 * rCTP_max,\n",
    "                    rGTP * rGTP_max,\n",
    "                    rUTP * rUTP_max,\n",
    "                    DNA * DNA_max,\n",
    "                    RNasin * RNasin_max,\n",
    "                    T7_RNA_polymerase * T7_RNA_polymerase_max,\n",
    "                    Spermidine * Spermidine_max,\n",
    "                    DTT * DTT_max,\n",
    "                    NaCl * NaCl_max,\n",
    "                    Tris_HCl * Tris_HCl_max,\n",
    "                    MgCl2 * MgCl2_max]\n",
    "\n",
    "this_sample_conc = np.reshape(this_sample_conc, (1, 12)) \n",
    "all_min_except_one_high = np.concatenate((all_min_except_one_high, this_sample_conc), axis = 0)"
   ]
  },
  {
   "cell_type": "code",
   "execution_count": 28,
   "metadata": {},
   "outputs": [],
   "source": [
    "this_sample_conc = [rATP * rATP_max,\n",
    "                    rCTP * rCTP_max,\n",
    "                    1 * rGTP_max,\n",
    "                    rUTP * rUTP_max,\n",
    "                    DNA * DNA_max,\n",
    "                    RNasin * RNasin_max,\n",
    "                    T7_RNA_polymerase * T7_RNA_polymerase_max,\n",
    "                    Spermidine * Spermidine_max,\n",
    "                    DTT * DTT_max,\n",
    "                    NaCl * NaCl_max,\n",
    "                    Tris_HCl * Tris_HCl_max,\n",
    "                    MgCl2 * MgCl2_max]\n",
    "\n",
    "this_sample_conc = np.reshape(this_sample_conc, (1, 12)) \n",
    "all_min_except_one_high = np.concatenate((all_min_except_one_high, this_sample_conc), axis = 0)"
   ]
  },
  {
   "cell_type": "code",
   "execution_count": 29,
   "metadata": {},
   "outputs": [],
   "source": [
    "this_sample_conc = [rATP * rATP_max,\n",
    "                    rCTP * rCTP_max,\n",
    "                    rGTP * rGTP_max,\n",
    "                    1 * rUTP_max,\n",
    "                    DNA * DNA_max,\n",
    "                    RNasin * RNasin_max,\n",
    "                    T7_RNA_polymerase * T7_RNA_polymerase_max,\n",
    "                    Spermidine * Spermidine_max,\n",
    "                    DTT * DTT_max,\n",
    "                    NaCl * NaCl_max,\n",
    "                    Tris_HCl * Tris_HCl_max,\n",
    "                    MgCl2 * MgCl2_max]\n",
    "\n",
    "this_sample_conc = np.reshape(this_sample_conc, (1, 12)) \n",
    "all_min_except_one_high = np.concatenate((all_min_except_one_high, this_sample_conc), axis = 0)"
   ]
  },
  {
   "cell_type": "code",
   "execution_count": 30,
   "metadata": {},
   "outputs": [],
   "source": [
    "this_sample_conc = [rATP * rATP_max,\n",
    "                    rCTP * rCTP_max,\n",
    "                    rGTP * rGTP_max,\n",
    "                    rUTP * rUTP_max,\n",
    "                    1 * DNA_max,\n",
    "                    RNasin * RNasin_max,\n",
    "                    T7_RNA_polymerase * T7_RNA_polymerase_max,\n",
    "                    Spermidine * Spermidine_max,\n",
    "                    DTT * DTT_max,\n",
    "                    NaCl * NaCl_max,\n",
    "                    Tris_HCl * Tris_HCl_max,\n",
    "                    MgCl2 * MgCl2_max]\n",
    "\n",
    "this_sample_conc = np.reshape(this_sample_conc, (1, 12)) \n",
    "all_min_except_one_high = np.concatenate((all_min_except_one_high, this_sample_conc), axis = 0)"
   ]
  },
  {
   "cell_type": "code",
   "execution_count": 31,
   "metadata": {},
   "outputs": [],
   "source": [
    "this_sample_conc = [rATP * rATP_max,\n",
    "                    rCTP * rCTP_max,\n",
    "                    rGTP * rGTP_max,\n",
    "                    rUTP * rUTP_max,\n",
    "                    DNA * DNA_max,\n",
    "                    1* RNasin_max,\n",
    "                    T7_RNA_polymerase * T7_RNA_polymerase_max,\n",
    "                    Spermidine * Spermidine_max,\n",
    "                    DTT * DTT_max,\n",
    "                    NaCl * NaCl_max,\n",
    "                    Tris_HCl * Tris_HCl_max,\n",
    "                    MgCl2 * MgCl2_max]\n",
    "\n",
    "this_sample_conc = np.reshape(this_sample_conc, (1, 12)) \n",
    "all_min_except_one_high = np.concatenate((all_min_except_one_high, this_sample_conc), axis = 0)"
   ]
  },
  {
   "cell_type": "code",
   "execution_count": 32,
   "metadata": {},
   "outputs": [],
   "source": [
    "this_sample_conc = [rATP * rATP_max,\n",
    "                    rCTP * rCTP_max,\n",
    "                    rGTP * rGTP_max,\n",
    "                    rUTP * rUTP_max,\n",
    "                    DNA * DNA_max,\n",
    "                    RNasin * RNasin_max,\n",
    "                    1 * T7_RNA_polymerase_max,\n",
    "                    Spermidine * Spermidine_max,\n",
    "                    DTT * DTT_max,\n",
    "                    NaCl * NaCl_max,\n",
    "                    Tris_HCl * Tris_HCl_max,\n",
    "                    MgCl2 * MgCl2_max]\n",
    "\n",
    "this_sample_conc = np.reshape(this_sample_conc, (1, 12)) \n",
    "all_min_except_one_high = np.concatenate((all_min_except_one_high, this_sample_conc), axis = 0)"
   ]
  },
  {
   "cell_type": "code",
   "execution_count": 33,
   "metadata": {},
   "outputs": [],
   "source": [
    "this_sample_conc = [rATP * rATP_max,\n",
    "                    rCTP * rCTP_max,\n",
    "                    rGTP * rGTP_max,\n",
    "                    rUTP * rUTP_max,\n",
    "                    DNA * DNA_max,\n",
    "                    RNasin * RNasin_max,\n",
    "                    T7_RNA_polymerase * T7_RNA_polymerase_max,\n",
    "                    1 * Spermidine_max,\n",
    "                    DTT * DTT_max,\n",
    "                    NaCl * NaCl_max,\n",
    "                    Tris_HCl * Tris_HCl_max,\n",
    "                    MgCl2 * MgCl2_max]\n",
    "\n",
    "this_sample_conc = np.reshape(this_sample_conc, (1, 12)) \n",
    "all_min_except_one_high = np.concatenate((all_min_except_one_high, this_sample_conc), axis = 0)"
   ]
  },
  {
   "cell_type": "code",
   "execution_count": 34,
   "metadata": {},
   "outputs": [],
   "source": [
    "this_sample_conc = [rATP * rATP_max,\n",
    "                    rCTP * rCTP_max,\n",
    "                    rGTP * rGTP_max,\n",
    "                    rUTP * rUTP_max,\n",
    "                    DNA * DNA_max,\n",
    "                    RNasin * RNasin_max,\n",
    "                    T7_RNA_polymerase * T7_RNA_polymerase_max,\n",
    "                    Spermidine * Spermidine_max,\n",
    "                    1 * DTT_max,\n",
    "                    NaCl * NaCl_max,\n",
    "                    Tris_HCl * Tris_HCl_max,\n",
    "                    MgCl2 * MgCl2_max]\n",
    "\n",
    "this_sample_conc = np.reshape(this_sample_conc, (1, 12)) \n",
    "all_min_except_one_high = np.concatenate((all_min_except_one_high, this_sample_conc), axis = 0)"
   ]
  },
  {
   "cell_type": "code",
   "execution_count": 35,
   "metadata": {},
   "outputs": [],
   "source": [
    "this_sample_conc = [rATP * rATP_max,\n",
    "                    rCTP * rCTP_max,\n",
    "                    rGTP * rGTP_max,\n",
    "                    rUTP * rUTP_max,\n",
    "                    DNA * DNA_max,\n",
    "                    RNasin * RNasin_max,\n",
    "                    T7_RNA_polymerase * T7_RNA_polymerase_max,\n",
    "                    Spermidine * Spermidine_max,\n",
    "                    DTT * DTT_max,\n",
    "                    1 * NaCl_max,\n",
    "                    Tris_HCl * Tris_HCl_max,\n",
    "                    MgCl2 * MgCl2_max]\n",
    "\n",
    "this_sample_conc = np.reshape(this_sample_conc, (1, 12)) \n",
    "all_min_except_one_high = np.concatenate((all_min_except_one_high, this_sample_conc), axis = 0)"
   ]
  },
  {
   "cell_type": "code",
   "execution_count": 36,
   "metadata": {},
   "outputs": [],
   "source": [
    "this_sample_conc = [rATP * rATP_max,\n",
    "                    rCTP * rCTP_max,\n",
    "                    rGTP * rGTP_max,\n",
    "                    rUTP * rUTP_max,\n",
    "                    DNA * DNA_max,\n",
    "                    RNasin * RNasin_max,\n",
    "                    T7_RNA_polymerase * T7_RNA_polymerase_max,\n",
    "                    Spermidine * Spermidine_max,\n",
    "                    DTT * DTT_max,\n",
    "                    NaCl * NaCl_max,\n",
    "                    1 * Tris_HCl_max,\n",
    "                    MgCl2 * MgCl2_max]\n",
    "\n",
    "this_sample_conc = np.reshape(this_sample_conc, (1, 12)) \n",
    "all_min_except_one_high = np.concatenate((all_min_except_one_high, this_sample_conc), axis = 0)"
   ]
  },
  {
   "cell_type": "code",
   "execution_count": 37,
   "metadata": {},
   "outputs": [],
   "source": [
    "this_sample_conc = [rATP * rATP_max,\n",
    "                    rCTP * rCTP_max,\n",
    "                    rGTP * rGTP_max,\n",
    "                    rUTP * rUTP_max,\n",
    "                    DNA * DNA_max,\n",
    "                    RNasin * RNasin_max,\n",
    "                    T7_RNA_polymerase * T7_RNA_polymerase_max,\n",
    "                    Spermidine * Spermidine_max,\n",
    "                    DTT * DTT_max,\n",
    "                    NaCl * NaCl_max,\n",
    "                    Tris_HCl * Tris_HCl_max,\n",
    "                    1 * MgCl2_max]\n",
    "\n",
    "this_sample_conc = np.reshape(this_sample_conc, (1, 12)) \n",
    "all_min_except_one_high = np.concatenate((all_min_except_one_high, this_sample_conc), axis = 0)"
   ]
  },
  {
   "cell_type": "code",
   "execution_count": 38,
   "metadata": {},
   "outputs": [],
   "source": [
    "this_sample_conc = [rATP * rATP_max,\n",
    "                    rCTP * rCTP_max,\n",
    "                    rGTP * rGTP_max,\n",
    "                    rUTP * rUTP_max,\n",
    "                    DNA * DNA_max,\n",
    "                    RNasin * RNasin_max,\n",
    "                    T7_RNA_polymerase * T7_RNA_polymerase_max,\n",
    "                    Spermidine * Spermidine_max,\n",
    "                    DTT * DTT_max,\n",
    "                    NaCl * NaCl_max,\n",
    "                    Tris_HCl * Tris_HCl_max,\n",
    "                    MgCl2 * MgCl2_max]\n",
    "\n",
    "this_sample_conc = np.reshape(this_sample_conc, (1, 12)) \n",
    "all_min_except_one_high = np.concatenate((all_min_except_one_high, this_sample_conc), axis = 0)"
   ]
  },
  {
   "cell_type": "code",
   "execution_count": 39,
   "metadata": {},
   "outputs": [
    {
     "name": "stdout",
     "output_type": "stream",
     "text": [
      "(14, 12)\n"
     ]
    }
   ],
   "source": [
    "print(all_min_except_one_high.shape)"
   ]
  },
  {
   "cell_type": "markdown",
   "metadata": {},
   "source": [
    "# Filling the rest randomly"
   ]
  },
  {
   "cell_type": "markdown",
   "metadata": {},
   "source": [
    "The rest of the plate will be filled randomly, while avoiding repeats."
   ]
  },
  {
   "cell_type": "code",
   "execution_count": 40,
   "metadata": {},
   "outputs": [],
   "source": [
    "answer_array = np.concatenate((ctrl_array, all_max_except_one_low, all_min_except_one_high), axis = 0)"
   ]
  },
  {
   "cell_type": "code",
   "execution_count": 41,
   "metadata": {},
   "outputs": [
    {
     "name": "stdout",
     "output_type": "stream",
     "text": [
      "(30, 12)\n"
     ]
    }
   ],
   "source": [
    "print(answer_array.shape)"
   ]
  },
  {
   "cell_type": "code",
   "execution_count": 42,
   "metadata": {},
   "outputs": [],
   "source": [
    "def present_in_array_index(new_sample, array):\n",
    "    \n",
    "    \"\"\"\n",
    "    Verify if a sample is present in an array.\n",
    "    \"\"\"\n",
    "    \n",
    "    if array is None:\n",
    "        return(False, -1)\n",
    "    present = False\n",
    "    new_sample = np.reshape(np.array(new_sample), (1, 12))\n",
    "    for i in range(array.shape[0]):\n",
    "        if np.array_equiv(array[i,:],new_sample):\n",
    "            present = True\n",
    "            break   \n",
    "    return(present, i)"
   ]
  },
  {
   "cell_type": "code",
   "execution_count": 43,
   "metadata": {},
   "outputs": [],
   "source": [
    "def generate_random_grid(array_to_avoid, sample_size = 100):\n",
    "    active_learning_array = array_to_avoid\n",
    "    if array_to_avoid is None:\n",
    "        answerSize = 0\n",
    "    else:\n",
    "        answerSize = active_learning_array.shape[0]\n",
    "\n",
    "    while answerSize < sample_size:\n",
    "        this_sample = np.random.randint(0, high = 3, size = 12, dtype='int')\n",
    "        this_sample_conc = [rATP_ratios[this_sample[0]] * rATP_max, \n",
    "                            rCTP_ratios[this_sample[1]] * rCTP_max,\n",
    "                            rGTP_ratios[this_sample[2]] * rGTP_max,\n",
    "                            rUTP_ratios[this_sample[3]] * rUTP_max,\n",
    "                            DNA_ratios[this_sample[4]] * DNA_max,\n",
    "                            T7_RNA_polymerase_ratios[this_sample[5]] * T7_RNA_polymerase_max,\n",
    "                            RNasin_ratios[this_sample[6]] * RNasin_max,\n",
    "                            Spermidine_ratios[this_sample[7]] * Spermidine_max,\n",
    "                            DTT_ratios[this_sample[8]] * DTT_max,\n",
    "                            NaCl_ratios[this_sample[9]] * NaCl_max, \n",
    "                            Tris_HCl_ratios[this_sample[10]] * Tris_HCl_max,\n",
    "                            MgCl2_ratios[this_sample[11]] * MgCl2_max]\n",
    "                             \n",
    "        this_sample_conc = np.reshape(this_sample_conc, (1, 12))\n",
    "        if not present_in_array_index(this_sample_conc, active_learning_array)[0]:\n",
    "            answerSize = answerSize + 1\n",
    "            if active_learning_array is None:\n",
    "                active_learning_array = this_sample_conc\n",
    "            else:\n",
    "                active_learning_array = np.concatenate((active_learning_array, this_sample_conc), axis = 0)\n",
    "    return(active_learning_array)"
   ]
  },
  {
   "cell_type": "code",
   "execution_count": 44,
   "metadata": {},
   "outputs": [],
   "source": [
    "answer_array = generate_random_grid(answer_array, sample_size = 102)"
   ]
  },
  {
   "cell_type": "code",
   "execution_count": 45,
   "metadata": {},
   "outputs": [],
   "source": [
    "# Saving output in csv file\n",
    "headers = \"rATP; rCTP; rGTP; rUTP; DNA; T7-RNA-Polymerase; RNasin; Spermidine; DTT; NaCl; Tris-HCl; MgCl2\"\n",
    "np.savetxt(\"{}/initial_plate_euCFPS_TX.csv\".format(data_folder), answer_array, delimiter=\";\", header = headers,fmt='%.5f')"
   ]
  }
 ],
 "metadata": {
  "anaconda-cloud": {},
  "kernelspec": {
   "display_name": "Python 3",
   "language": "python",
   "name": "python3"
  },
  "language_info": {
   "codemirror_mode": {
    "name": "ipython",
    "version": 3
   },
   "file_extension": ".py",
   "mimetype": "text/x-python",
   "name": "python",
   "nbconvert_exporter": "python",
   "pygments_lexer": "ipython3",
   "version": "3.8.8"
  }
 },
 "nbformat": 4,
 "nbformat_minor": 1
}
