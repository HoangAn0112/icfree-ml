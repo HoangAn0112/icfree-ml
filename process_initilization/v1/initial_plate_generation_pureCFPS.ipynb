{
 "cells": [
  {
   "cell_type": "raw",
   "metadata": {},
   "source": [
    "Yorgo EL MOUBAYED, INRAe, BRS group"
   ]
  },
  {
   "cell_type": "markdown",
   "metadata": {},
   "source": [
    "The aim of this notebook is to generate the initial training set (or initial plate) for the subsequent active learning loop."
   ]
  },
  {
   "cell_type": "markdown",
   "metadata": {},
   "source": [
    "# Python libraries imports"
   ]
  },
  {
   "cell_type": "code",
   "execution_count": 7,
   "metadata": {},
   "outputs": [],
   "source": [
    "import numpy as np\n",
    "import random"
   ]
  },
  {
   "cell_type": "markdown",
   "metadata": {},
   "source": [
    "# Create a folder to save the resulting dataset"
   ]
  },
  {
   "cell_type": "code",
   "execution_count": 8,
   "metadata": {},
   "outputs": [],
   "source": [
    "data_folder = \"echo_files\""
   ]
  },
  {
   "cell_type": "markdown",
   "metadata": {},
   "source": [
    "**Important**  \n",
    "The seed was not set when the file was first executed.  \n",
    "The concentrations used for the initial plate in the paper can be found in **data/plate_AL_1_raw_everything.csv**."
   ]
  },
  {
   "cell_type": "markdown",
   "metadata": {},
   "source": [
    "**Caution**  \n",
    "When you run the code under the pre-existing files architecture, the results are overwritten in the **initial_plate.csv** dataset."
   ]
  },
  {
   "cell_type": "markdown",
   "metadata": {},
   "source": [
    "# Defining the tested concentrations and volumes"
   ]
  },
  {
   "cell_type": "markdown",
   "metadata": {},
   "source": [
    "The concentrations below are defined as a proportion of the maximum allowed concentration."
   ]
  },
  {
   "cell_type": "code",
   "execution_count": 23,
   "metadata": {},
   "outputs": [],
   "source": [
    "# Allowed concentration ratios for each component. Mostly, four ratios were chosen for each component.\n",
    "\n",
    "mg_acetate_ratios = [0.25, 0.5, 0.75, 1]\n",
    "k_glutamate_ratios = [0.25, 0.5, 0.75, 1]\n",
    "hepes_ratios = [0.25, 0.5, 0.75, 1]\n",
    "phosphocreatine_ratios = [0.2, 0.4, 0.6, 1]\n",
    "ag_nucleotides_ratios = [0.25, 0.5, 0.75, 1]\n",
    "cu_nucleotides_ratios = [0.25, 0.5, 0.75, 1]\n",
    "tcep_ratios = [0.25, 0.5, 0.75, 1]\n",
    "folinic_acid_ratios = [0.25, 0.5, 0.75, 1]\n",
    "spermidine_ratios = [0.25, 0.5, 0.75, 1]\n",
    "aminoacids_ratios = [0.25, 0.5, 0.75, 1]\n",
    "trna_ratios = [0.25, 0.5, 0.75, 1]\n",
    "ribosomes_ratios = [0.25, 0.5, 0.75, 1]\n",
    "circular_dna_ratios = [0.25, 0.5, 0.75, 1]\n",
    "linear_dna_ratios = [0.25, 0.5, 0.75, 1]\n",
    "protein_solution_ratios = [0.25, 0.5, 0.75, 1]"
   ]
  },
  {
   "cell_type": "code",
   "execution_count": 24,
   "metadata": {},
   "outputs": [],
   "source": [
    "# Maximum concentration for each component. Resulting concentration = Maximum concentration * Ratio.\n",
    "\n",
    "mg_acetate_max = 20\n",
    "k_glutamate_max = 200\n",
    "hepes_max = 150\n",
    "phosphocreatine_max = 50\n",
    "ag_nucleotides_max = 5\n",
    "cu_nucleotides_max = 2.5\n",
    "tcep_max = 5\n",
    "folinic_acid_max = 0.05\n",
    "spermidine_max = 3\n",
    "aminoacids_max = 1\n",
    "trna_max = 7.5\n",
    "ribosomes_max = 3.6\n",
    "circular_dna_max = 8\n",
    "linear_dna_max = 8\n",
    "protein_solution_max = 2.5"
   ]
  },
  {
   "cell_type": "markdown",
   "metadata": {},
   "source": [
    "# Defining control samples (maximum and autofluorescence)"
   ]
  },
  {
   "cell_type": "markdown",
   "metadata": {},
   "source": [
    "This defines the control samples (reference) used in the first plate, that have maximum concentrations for all components. \n",
    "The autofluorescence **<sup>1</sup>** control has no DNA. **<sup>1</sup>** is the fluorescence measured in the cell-free reaction supplemented with water and using the reference composition."
   ]
  },
  {
   "cell_type": "code",
   "execution_count": 25,
   "metadata": {},
   "outputs": [],
   "source": [
    "# Reference extract where all components are at the maximum concentrations.\n",
    "\n",
    "maximum_extract = np.ones((1, 15), dtype = 'int')\n",
    "\n",
    "max_sample_conc = [maximum_extract[0, 0] * mg_acetate_max, \n",
    "                   maximum_extract[0, 1] * k_glutamate_max, \n",
    "                   maximum_extract[0, 2] * hepes_max,\n",
    "                   maximum_extract[0, 3] * phosphocreatine_max,\n",
    "                   maximum_extract[0, 4] * ag_nucleotides_max,\n",
    "                   maximum_extract[0, 5] * cu_nucleotides_max,\n",
    "                   maximum_extract[0, 6] * tcep_max,\n",
    "                   maximum_extract[0, 7] * folinic_acid_max,\n",
    "                   maximum_extract[0, 8] * spermidine_max,\n",
    "                   maximum_extract[0, 9] * aminoacids_max,\n",
    "                   maximum_extract[0, 10] * trna_max,\n",
    "                   maximum_extract[0, 11] * ribosomes_max,\n",
    "                   maximum_extract[0, 12] * circular_dna_max,\n",
    "                   maximum_extract[0, 13] * linear_dna_max,\n",
    "                   maximum_extract[0, 14] * protein_solution_max,\n",
    "                  ]"
   ]
  },
  {
   "cell_type": "code",
   "execution_count": 26,
   "metadata": {},
   "outputs": [],
   "source": [
    "# Reference autofluorescence extract \n",
    "\n",
    "autofluorescence_extract = np.ones((1, 15), dtype = 'int')\n",
    "\n",
    "autofluorescence_sample_conc = [autofluorescence_extract[0, 0] * mg_acetate_max, \n",
    "                               autofluorescence_extract[0, 1] * k_glutamate_max, \n",
    "                               autofluorescence_extract[0, 2] * hepes_max,\n",
    "                               autofluorescence_extract[0, 3] * phosphocreatine_max,\n",
    "                               autofluorescence_extract[0, 4] * ag_nucleotides_max,\n",
    "                               autofluorescence_extract[0, 5] * cu_nucleotides_max,\n",
    "                               autofluorescence_extract[0, 6] * tcep_max,\n",
    "                               autofluorescence_extract[0, 7] * folinic_acid_max,\n",
    "                               autofluorescence_extract[0, 8] * spermidine_max,\n",
    "                               autofluorescence_extract[0, 9] * aminoacids_max,\n",
    "                               autofluorescence_extract[0, 10] * trna_max,\n",
    "                               autofluorescence_extract[0, 11] * ribosomes_max,\n",
    "                               autofluorescence_extract[0, 12] * 0, # No DNA in the autofluorescence control\n",
    "                               autofluorescence_extract[0, 13] * 0, # No DNA in the autofluorescence control\n",
    "                               autofluorescence_extract[0, 14] * protein_solution_max,\n",
    "                              ]"
   ]
  },
  {
   "cell_type": "code",
   "execution_count": 27,
   "metadata": {},
   "outputs": [],
   "source": [
    "max_sample_conc = np.reshape(max_sample_conc, (1, 15))\n",
    "\n",
    "autofluorescence_sample_conc = np.asarray(autofluorescence_sample_conc)\n",
    "autofluorescence_sample_conc = np.reshape(autofluorescence_sample_conc, (1, 15))\n",
    "\n",
    "ctrl_array = max_sample_conc\n",
    "ctrl_array = np.concatenate((ctrl_array, autofluorescence_sample_conc), axis = 0)"
   ]
  },
  {
   "cell_type": "markdown",
   "metadata": {},
   "source": [
    "# All components at maximum, except one at minimum "
   ]
  },
  {
   "cell_type": "markdown",
   "metadata": {},
   "source": [
    "This defines a set of combinations for the initial plate as follows:  \n",
    "* 10 forced combinations: All the components are at the maximum concentration, except one at the minimum.\n",
    "* 1  forced comibnation: All the components are at the maximum concentration."
   ]
  },
  {
   "cell_type": "code",
   "execution_count": 28,
   "metadata": {},
   "outputs": [],
   "source": [
    "all_max_except_one_low = max_sample_conc"
   ]
  },
  {
   "cell_type": "code",
   "execution_count": 29,
   "metadata": {},
   "outputs": [],
   "source": [
    "mg_acetate = mg_acetate_ratios[-1]\n",
    "k_glutamate = k_glutamate_ratios[-1]\n",
    "hepes = hepes_ratios[-1]\n",
    "phosphocreatine = phosphocreatine_ratios[-1]\n",
    "ag_nucleotides = ag_nucleotides_ratios[-1]\n",
    "cu_nucleotides = cu_nucleotides_ratios[-1]\n",
    "tcep = tcep_ratios[-1]\n",
    "folinic_acid = folinic_acid_ratios[-1]\n",
    "spermidine = spermidine_ratios[-1]\n",
    "aminoacids = aminoacids_ratios[-1]\n",
    "trna = trna_ratios[-1]\n",
    "ribosomes = ribosomes_ratios[-1]\n",
    "circular_dna = circular_dna_ratios[-1]\n",
    "linear_dna = linear_dna_ratios[-1]\n",
    "protein_solution = protein_solution_ratios[-1]"
   ]
  },
  {
   "cell_type": "code",
   "execution_count": 30,
   "metadata": {},
   "outputs": [],
   "source": [
    "this_sample_conc = [0.25 * mg_acetate_max,\n",
    "                    k_glutamate * k_glutamate_max,\n",
    "                    hepes * hepes_max,\n",
    "                    phosphocreatine * phosphocreatine_max,\n",
    "                    ag_nucleotides * ag_nucleotides_max,\n",
    "                    cu_nucleotides * cu_nucleotides_max,\n",
    "                    tcep * tcep_max,\n",
    "                    folinic_acid * folinic_acid_max,\n",
    "                    spermidine * spermidine_max,\n",
    "                    aminoacids * aminoacids_max,\n",
    "                    trna * trna_max,\n",
    "                    ribosomes * ribosomes_max,\n",
    "                    circular_dna * circular_dna_max,\n",
    "                    linear_dna * linear_dna_max,\n",
    "                    protein_solution * protein_solution_max\n",
    "                   ]\n",
    "\n",
    "this_sample_conc = np.reshape(this_sample_conc, (1, 15)) \n",
    "all_max_except_one_low = np.concatenate((all_max_except_one_low, this_sample_conc), axis = 0)"
   ]
  },
  {
   "cell_type": "code",
   "execution_count": 31,
   "metadata": {},
   "outputs": [],
   "source": [
    "this_sample_conc = [mg_acetate * mg_acetate_max,\n",
    "                    0.25 * k_glutamate_max,\n",
    "                    hepes * hepes_max,\n",
    "                    phosphocreatine * phosphocreatine_max,\n",
    "                    ag_nucleotides * ag_nucleotides_max,\n",
    "                    cu_nucleotides * cu_nucleotides_max,\n",
    "                    tcep * tcep_max,\n",
    "                    folinic_acid * folinic_acid_max,\n",
    "                    spermidine * spermidine_max,\n",
    "                    aminoacids * aminoacids_max,\n",
    "                    trna * trna_max,\n",
    "                    ribosomes * ribosomes_max,\n",
    "                    circular_dna * circular_dna_max,\n",
    "                    linear_dna * linear_dna_max,\n",
    "                    protein_solution * protein_solution_max\n",
    "                   ]\n",
    "\n",
    "this_sample_conc = np.reshape(this_sample_conc, (1, 15)) \n",
    "all_max_except_one_low = np.concatenate((all_max_except_one_low, this_sample_conc), axis = 0)"
   ]
  },
  {
   "cell_type": "code",
   "execution_count": 32,
   "metadata": {},
   "outputs": [],
   "source": [
    "this_sample_conc = [mg_acetate * mg_acetate_max,\n",
    "                    k_glutamate * k_glutamate_max,\n",
    "                    0.25 * hepes_max,\n",
    "                    phosphocreatine * phosphocreatine_max,\n",
    "                    ag_nucleotides * ag_nucleotides_max,\n",
    "                    cu_nucleotides * cu_nucleotides_max,\n",
    "                    tcep * tcep_max,\n",
    "                    folinic_acid * folinic_acid_max,\n",
    "                    spermidine * spermidine_max,\n",
    "                    aminoacids * aminoacids_max,\n",
    "                    trna * trna_max,\n",
    "                    ribosomes * ribosomes_max,\n",
    "                    circular_dna * circular_dna_max,\n",
    "                    linear_dna * linear_dna_max,\n",
    "                    protein_solution * protein_solution_max\n",
    "                   ]\n",
    "\n",
    "this_sample_conc = np.reshape(this_sample_conc, (1, 15)) \n",
    "all_max_except_one_low = np.concatenate((all_max_except_one_low, this_sample_conc), axis = 0)"
   ]
  },
  {
   "cell_type": "code",
   "execution_count": 33,
   "metadata": {},
   "outputs": [],
   "source": [
    "this_sample_conc = [mg_acetate * mg_acetate_max,\n",
    "                    k_glutamate * k_glutamate_max,\n",
    "                    hepes * hepes_max,\n",
    "                    0.25 * phosphocreatine_max,\n",
    "                    ag_nucleotides * ag_nucleotides_max,\n",
    "                    cu_nucleotides * cu_nucleotides_max,\n",
    "                    tcep * tcep_max,\n",
    "                    folinic_acid * folinic_acid_max,\n",
    "                    spermidine * spermidine_max,\n",
    "                    aminoacids * aminoacids_max,\n",
    "                    trna * trna_max,\n",
    "                    ribosomes * ribosomes_max,\n",
    "                    circular_dna * circular_dna_max,\n",
    "                    linear_dna * linear_dna_max,\n",
    "                    protein_solution * protein_solution_max\n",
    "                   ]\n",
    "\n",
    "this_sample_conc = np.reshape(this_sample_conc, (1, 15)) \n",
    "all_max_except_one_low = np.concatenate((all_max_except_one_low, this_sample_conc), axis = 0)"
   ]
  },
  {
   "cell_type": "code",
   "execution_count": 34,
   "metadata": {},
   "outputs": [],
   "source": [
    "this_sample_conc = [mg_acetate * mg_acetate_max,\n",
    "                    k_glutamate * k_glutamate_max,\n",
    "                    hepes * hepes_max,\n",
    "                    phosphocreatine * phosphocreatine_max,\n",
    "                    0.25 * ag_nucleotides_max,\n",
    "                    cu_nucleotides * cu_nucleotides_max,\n",
    "                    tcep * tcep_max,\n",
    "                    folinic_acid * folinic_acid_max,\n",
    "                    spermidine * spermidine_max,\n",
    "                    aminoacids * aminoacids_max,\n",
    "                    trna * trna_max,\n",
    "                    ribosomes * ribosomes_max,\n",
    "                    circular_dna * circular_dna_max,\n",
    "                    linear_dna * linear_dna_max,\n",
    "                    protein_solution * protein_solution_max\n",
    "                   ]\n",
    "\n",
    "this_sample_conc = np.reshape(this_sample_conc, (1, 15)) \n",
    "all_max_except_one_low = np.concatenate((all_max_except_one_low, this_sample_conc), axis = 0)"
   ]
  },
  {
   "cell_type": "code",
   "execution_count": 35,
   "metadata": {},
   "outputs": [],
   "source": [
    "this_sample_conc = [mg_acetate * mg_acetate_max,\n",
    "                    k_glutamate * k_glutamate_max,\n",
    "                    hepes * hepes_max,\n",
    "                    phosphocreatine * phosphocreatine_max,\n",
    "                    ag_nucleotides * ag_nucleotides_max,\n",
    "                    0.25 * cu_nucleotides_max,\n",
    "                    tcep * tcep_max,\n",
    "                    folinic_acid * folinic_acid_max,\n",
    "                    spermidine * spermidine_max,\n",
    "                    aminoacids * aminoacids_max,\n",
    "                    trna * trna_max,\n",
    "                    ribosomes * ribosomes_max,\n",
    "                    circular_dna * circular_dna_max,\n",
    "                    linear_dna * linear_dna_max,\n",
    "                    protein_solution * protein_solution_max\n",
    "                   ]\n",
    "\n",
    "this_sample_conc = np.reshape(this_sample_conc, (1, 15)) \n",
    "all_max_except_one_low = np.concatenate((all_max_except_one_low, this_sample_conc), axis = 0)"
   ]
  },
  {
   "cell_type": "code",
   "execution_count": 36,
   "metadata": {},
   "outputs": [],
   "source": [
    "this_sample_conc = [mg_acetate * mg_acetate_max,\n",
    "                    k_glutamate * k_glutamate_max,\n",
    "                    hepes * hepes_max,\n",
    "                    phosphocreatine * phosphocreatine_max,\n",
    "                    ag_nucleotides * ag_nucleotides_max,\n",
    "                    cu_nucleotides * cu_nucleotides_max,\n",
    "                    0.25 * tcep_max,\n",
    "                    folinic_acid * folinic_acid_max,\n",
    "                    spermidine * spermidine_max,\n",
    "                    aminoacids * aminoacids_max,\n",
    "                    trna * trna_max,\n",
    "                    ribosomes * ribosomes_max,\n",
    "                    circular_dna * circular_dna_max,\n",
    "                    linear_dna * linear_dna_max,\n",
    "                    protein_solution * protein_solution_max\n",
    "                   ]\n",
    "\n",
    "this_sample_conc = np.reshape(this_sample_conc, (1, 15)) \n",
    "all_max_except_one_low = np.concatenate((all_max_except_one_low, this_sample_conc), axis = 0)"
   ]
  },
  {
   "cell_type": "code",
   "execution_count": 37,
   "metadata": {},
   "outputs": [],
   "source": [
    "this_sample_conc = [mg_acetate * mg_acetate_max,\n",
    "                    k_glutamate * k_glutamate_max,\n",
    "                    hepes * hepes_max,\n",
    "                    phosphocreatine * phosphocreatine_max,\n",
    "                    ag_nucleotides * ag_nucleotides_max,\n",
    "                    cu_nucleotides * cu_nucleotides_max,\n",
    "                    tcep * tcep_max,\n",
    "                    0.25 * folinic_acid_max,\n",
    "                    spermidine * spermidine_max,\n",
    "                    aminoacids * aminoacids_max,\n",
    "                    trna * trna_max,\n",
    "                    ribosomes * ribosomes_max,\n",
    "                    circular_dna * circular_dna_max,\n",
    "                    linear_dna * linear_dna_max,\n",
    "                    protein_solution * protein_solution_max\n",
    "                   ]\n",
    "\n",
    "this_sample_conc = np.reshape(this_sample_conc, (1, 15)) \n",
    "all_max_except_one_low = np.concatenate((all_max_except_one_low, this_sample_conc), axis = 0)"
   ]
  },
  {
   "cell_type": "code",
   "execution_count": 38,
   "metadata": {},
   "outputs": [],
   "source": [
    "this_sample_conc = [mg_acetate * mg_acetate_max,\n",
    "                    k_glutamate * k_glutamate_max,\n",
    "                    hepes * hepes_max,\n",
    "                    phosphocreatine * phosphocreatine_max,\n",
    "                    ag_nucleotides * ag_nucleotides_max,\n",
    "                    cu_nucleotides * cu_nucleotides_max,\n",
    "                    tcep * tcep_max,\n",
    "                    folinic_acid * folinic_acid_max,\n",
    "                    0.25 * spermidine_max,\n",
    "                    aminoacids * aminoacids_max,\n",
    "                    trna * trna_max,\n",
    "                    ribosomes * ribosomes_max,\n",
    "                    circular_dna * circular_dna_max,\n",
    "                    linear_dna * linear_dna_max,\n",
    "                    protein_solution * protein_solution_max\n",
    "                   ]\n",
    "\n",
    "this_sample_conc = np.reshape(this_sample_conc, (1, 15)) \n",
    "all_max_except_one_low = np.concatenate((all_max_except_one_low, this_sample_conc), axis = 0)"
   ]
  },
  {
   "cell_type": "code",
   "execution_count": 39,
   "metadata": {},
   "outputs": [],
   "source": [
    "this_sample_conc = [mg_acetate * mg_acetate_max,\n",
    "                    k_glutamate * k_glutamate_max,\n",
    "                    hepes * hepes_max,\n",
    "                    phosphocreatine * phosphocreatine_max,\n",
    "                    ag_nucleotides * ag_nucleotides_max,\n",
    "                    cu_nucleotides * cu_nucleotides_max,\n",
    "                    tcep * tcep_max,\n",
    "                    folinic_acid * folinic_acid_max,\n",
    "                    spermidine * spermidine_max,\n",
    "                    0.25 * aminoacids_max,\n",
    "                    trna * trna_max,\n",
    "                    ribosomes * ribosomes_max,\n",
    "                    circular_dna * circular_dna_max,\n",
    "                    linear_dna * linear_dna_max,\n",
    "                    protein_solution * protein_solution_max\n",
    "                   ]\n",
    "\n",
    "this_sample_conc = np.reshape(this_sample_conc, (1, 15)) \n",
    "all_max_except_one_low = np.concatenate((all_max_except_one_low, this_sample_conc), axis = 0)"
   ]
  },
  {
   "cell_type": "code",
   "execution_count": 40,
   "metadata": {},
   "outputs": [],
   "source": [
    "this_sample_conc = [mg_acetate * mg_acetate_max,\n",
    "                    k_glutamate * k_glutamate_max,\n",
    "                    hepes * hepes_max,\n",
    "                    phosphocreatine * phosphocreatine_max,\n",
    "                    ag_nucleotides * ag_nucleotides_max,\n",
    "                    cu_nucleotides * cu_nucleotides_max,\n",
    "                    tcep * tcep_max,\n",
    "                    folinic_acid * folinic_acid_max,\n",
    "                    spermidine * spermidine_max,\n",
    "                    aminoacids * aminoacids_max,\n",
    "                    0.25 * trna_max,\n",
    "                    ribosomes * ribosomes_max,\n",
    "                    circular_dna * circular_dna_max,\n",
    "                    linear_dna * linear_dna_max,\n",
    "                    protein_solution * protein_solution_max\n",
    "                   ]\n",
    "\n",
    "this_sample_conc = np.reshape(this_sample_conc, (1, 15)) \n",
    "all_max_except_one_low = np.concatenate((all_max_except_one_low, this_sample_conc), axis = 0)"
   ]
  },
  {
   "cell_type": "code",
   "execution_count": 41,
   "metadata": {},
   "outputs": [],
   "source": [
    "this_sample_conc = [mg_acetate * mg_acetate_max,\n",
    "                    k_glutamate * k_glutamate_max,\n",
    "                    hepes * hepes_max,\n",
    "                    phosphocreatine * phosphocreatine_max,\n",
    "                    ag_nucleotides * ag_nucleotides_max,\n",
    "                    cu_nucleotides * cu_nucleotides_max,\n",
    "                    tcep * tcep_max,\n",
    "                    folinic_acid * folinic_acid_max,\n",
    "                    spermidine * spermidine_max,\n",
    "                    aminoacids * aminoacids_max,\n",
    "                    trna * trna_max,\n",
    "                    0.25 * ribosomes_max,\n",
    "                    circular_dna * circular_dna_max,\n",
    "                    linear_dna * linear_dna_max,\n",
    "                    protein_solution * protein_solution_max\n",
    "                   ]\n",
    "\n",
    "this_sample_conc = np.reshape(this_sample_conc, (1, 15)) \n",
    "all_max_except_one_low = np.concatenate((all_max_except_one_low, this_sample_conc), axis = 0)"
   ]
  },
  {
   "cell_type": "code",
   "execution_count": 42,
   "metadata": {},
   "outputs": [],
   "source": [
    "this_sample_conc = [mg_acetate * mg_acetate_max,\n",
    "                    k_glutamate * k_glutamate_max,\n",
    "                    hepes * hepes_max,\n",
    "                    phosphocreatine * phosphocreatine_max,\n",
    "                    ag_nucleotides * ag_nucleotides_max,\n",
    "                    cu_nucleotides * cu_nucleotides_max,\n",
    "                    tcep * tcep_max,\n",
    "                    folinic_acid * folinic_acid_max,\n",
    "                    spermidine * spermidine_max,\n",
    "                    aminoacids * aminoacids_max,\n",
    "                    trna * trna_max,\n",
    "                    ribosomes * ribosomes_max,\n",
    "                    0.25 * circular_dna_max,\n",
    "                    linear_dna * linear_dna_max,\n",
    "                    protein_solution * protein_solution_max\n",
    "                   ]\n",
    "\n",
    "this_sample_conc = np.reshape(this_sample_conc, (1, 15)) \n",
    "all_max_except_one_low = np.concatenate((all_max_except_one_low, this_sample_conc), axis = 0)"
   ]
  },
  {
   "cell_type": "code",
   "execution_count": 43,
   "metadata": {},
   "outputs": [],
   "source": [
    "this_sample_conc = [mg_acetate * mg_acetate_max,\n",
    "                    k_glutamate * k_glutamate_max,\n",
    "                    hepes * hepes_max,\n",
    "                    phosphocreatine * phosphocreatine_max,\n",
    "                    ag_nucleotides * ag_nucleotides_max,\n",
    "                    cu_nucleotides * cu_nucleotides_max,\n",
    "                    tcep * tcep_max,\n",
    "                    folinic_acid * folinic_acid_max,\n",
    "                    spermidine * spermidine_max,\n",
    "                    aminoacids * aminoacids_max,\n",
    "                    trna * trna_max,\n",
    "                    ribosomes * ribosomes_max,\n",
    "                    circular_dna * circular_dna_max,\n",
    "                    0.25 * linear_dna_max,\n",
    "                    protein_solution * protein_solution_max\n",
    "                   ]\n",
    "\n",
    "this_sample_conc = np.reshape(this_sample_conc, (1, 15)) \n",
    "all_max_except_one_low = np.concatenate((all_max_except_one_low, this_sample_conc), axis = 0)"
   ]
  },
  {
   "cell_type": "code",
   "execution_count": 44,
   "metadata": {},
   "outputs": [],
   "source": [
    "this_sample_conc = [mg_acetate * mg_acetate_max,\n",
    "                    k_glutamate * k_glutamate_max,\n",
    "                    hepes * hepes_max,\n",
    "                    phosphocreatine * phosphocreatine_max,\n",
    "                    ag_nucleotides * ag_nucleotides_max,\n",
    "                    cu_nucleotides * cu_nucleotides_max,\n",
    "                    tcep * tcep_max,\n",
    "                    folinic_acid * folinic_acid_max,\n",
    "                    spermidine * spermidine_max,\n",
    "                    aminoacids * aminoacids_max,\n",
    "                    trna * trna_max,\n",
    "                    ribosomes * ribosomes_max,\n",
    "                    circular_dna * circular_dna_max,\n",
    "                    linear_dna * linear_dna_max,\n",
    "                    0.25 * protein_solution_max\n",
    "                   ]\n",
    "\n",
    "this_sample_conc = np.reshape(this_sample_conc, (1, 15)) \n",
    "all_max_except_one_low = np.concatenate((all_max_except_one_low, this_sample_conc), axis = 0)"
   ]
  },
  {
   "cell_type": "code",
   "execution_count": 45,
   "metadata": {},
   "outputs": [
    {
     "name": "stdout",
     "output_type": "stream",
     "text": [
      "(16, 15)\n"
     ]
    }
   ],
   "source": [
    "print(all_max_except_one_low.shape)"
   ]
  },
  {
   "cell_type": "markdown",
   "metadata": {},
   "source": [
    "# All components at minimum, except one at maximum "
   ]
  },
  {
   "cell_type": "markdown",
   "metadata": {},
   "source": [
    "This defines a set of combinations for the initial plate as follows:  \n",
    "* 10 forced combinations: All the components are at the minimum concentration, except one at the maximum.\n",
    "* 1  forced comibnation: All the components are at the minimum concentration."
   ]
  },
  {
   "cell_type": "code",
   "execution_count": 145,
   "metadata": {},
   "outputs": [],
   "source": [
    "all_min_except_one_high = this_sample_conc"
   ]
  },
  {
   "cell_type": "code",
   "execution_count": 146,
   "metadata": {},
   "outputs": [],
   "source": [
    "mg_glutamate = mg_glutamate_conc[0]\n",
    "k_glutamate = k_glutamate_conc[0]\n",
    "sodiumoxalate = sodiumoxalate_conc[0]\n",
    "pga = pga_conc[0]\n",
    "nucleotides_mix = nucleotides_mix_conc[0]\n",
    "nad = nad_conc[0]\n",
    "folinic_acid = folinic_acid_conc[0]\n",
    "spermidine = spermidine_conc[0]\n",
    "aa = aa_conc[0]\n",
    "trna = trna_conc[0]\n",
    "\n",
    "dna = dna_mix_conc[1]\n",
    "hepes = hepes_conc[0]\n",
    "extract = extract_conc[0]"
   ]
  },
  {
   "cell_type": "code",
   "execution_count": 147,
   "metadata": {},
   "outputs": [],
   "source": [
    "this_sample_conc = [1 * mg_glutamate_max,\n",
    "                    k_glutamate * k_glutamate_max,\n",
    "                    sodiumoxalate * sodiumoxalate_max,\n",
    "                    pga * pga_max,\n",
    "                    nucleotides_mix * nucleotides_mix_max,\n",
    "                    nad * nad_max,\n",
    "                    folinic_acid * folinic_acid_max,\n",
    "                    spermidine * spermidine_max,\n",
    "                    aa * aa_max,\n",
    "                    trna * trna_max,\n",
    "                    dna * dna_mix_max,\n",
    "                    hepes * hepes_max,\n",
    "                    extract * extract_max]\n",
    "\n",
    "this_sample_conc = np.reshape(this_sample_conc, (1, 13)) \n",
    "all_min_except_one_high = np.concatenate((all_min_except_one_high, this_sample_conc), axis = 0)"
   ]
  },
  {
   "cell_type": "code",
   "execution_count": 148,
   "metadata": {},
   "outputs": [],
   "source": [
    "this_sample_conc = [mg_glutamate * mg_glutamate_max,\n",
    "                    1 * k_glutamate_max,\n",
    "                    sodiumoxalate * sodiumoxalate_max,\n",
    "                    pga * pga_max,\n",
    "                    nucleotides_mix * nucleotides_mix_max,\n",
    "                    nad * nad_max,\n",
    "                    folinic_acid * folinic_acid_max,\n",
    "                    spermidine * spermidine_max,\n",
    "                    aa * aa_max,\n",
    "                    trna * trna_max,\n",
    "                    dna * dna_mix_max,\n",
    "                    hepes * hepes_max,\n",
    "                    extract * extract_max]\n",
    "\n",
    "this_sample_conc = np.reshape(this_sample_conc, (1, 13)) \n",
    "all_min_except_one_high = np.concatenate((all_min_except_one_high, this_sample_conc), axis = 0)"
   ]
  },
  {
   "cell_type": "code",
   "execution_count": 149,
   "metadata": {},
   "outputs": [],
   "source": [
    "this_sample_conc = [mg_glutamate * mg_glutamate_max,\n",
    "                    k_glutamate * k_glutamate_max,\n",
    "                    1 * sodiumoxalate_max,\n",
    "                    pga * pga_max,\n",
    "                    nucleotides_mix * nucleotides_mix_max,\n",
    "                    nad * nad_max,\n",
    "                    folinic_acid * folinic_acid_max,\n",
    "                    spermidine * spermidine_max,\n",
    "                    aa * aa_max,\n",
    "                    trna * trna_max,\n",
    "                    dna * dna_mix_max,\n",
    "                    hepes * hepes_max,\n",
    "                    extract * extract_max]\n",
    "\n",
    "this_sample_conc = np.reshape(this_sample_conc, (1, 13)) \n",
    "all_min_except_one_high = np.concatenate((all_min_except_one_high, this_sample_conc), axis = 0)"
   ]
  },
  {
   "cell_type": "code",
   "execution_count": 150,
   "metadata": {},
   "outputs": [],
   "source": [
    "this_sample_conc = [mg_glutamate * mg_glutamate_max,\n",
    "                    k_glutamate * k_glutamate_max,\n",
    "                    sodiumoxalate * sodiumoxalate_max,\n",
    "                    1 * pga_max,\n",
    "                    nucleotides_mix * nucleotides_mix_max,\n",
    "                    nad * nad_max,\n",
    "                    folinic_acid * folinic_acid_max,\n",
    "                    spermidine * spermidine_max,\n",
    "                    aa * aa_max,\n",
    "                    trna * trna_max,\n",
    "                    dna * dna_mix_max,\n",
    "                    hepes * hepes_max,\n",
    "                    extract * extract_max]\n",
    "\n",
    "this_sample_conc = np.reshape(this_sample_conc, (1, 13)) \n",
    "all_min_except_one_high = np.concatenate((all_min_except_one_high, this_sample_conc), axis = 0)"
   ]
  },
  {
   "cell_type": "code",
   "execution_count": 151,
   "metadata": {},
   "outputs": [],
   "source": [
    "this_sample_conc = [mg_glutamate * mg_glutamate_max,\n",
    "                    k_glutamate * k_glutamate_max,\n",
    "                    sodiumoxalate * sodiumoxalate_max,\n",
    "                    pga * pga_max,\n",
    "                    1 * nucleotides_mix_max,\n",
    "                    nad * nad_max,\n",
    "                    folinic_acid * folinic_acid_max,\n",
    "                    spermidine * spermidine_max,\n",
    "                    aa * aa_max,\n",
    "                    trna * trna_max,\n",
    "                    dna * dna_mix_max,\n",
    "                    hepes * hepes_max,\n",
    "                    extract * extract_max]\n",
    "\n",
    "this_sample_conc = np.reshape(this_sample_conc, (1, 13)) \n",
    "all_min_except_one_high = np.concatenate((all_min_except_one_high, this_sample_conc), axis = 0)"
   ]
  },
  {
   "cell_type": "code",
   "execution_count": 152,
   "metadata": {},
   "outputs": [],
   "source": [
    "this_sample_conc = [mg_glutamate * mg_glutamate_max,\n",
    "                    k_glutamate * k_glutamate_max,\n",
    "                    sodiumoxalate * sodiumoxalate_max,\n",
    "                    pga * pga_max,\n",
    "                    nucleotides_mix * nucleotides_mix_max,\n",
    "                    1 * nad_max,\n",
    "                    folinic_acid * folinic_acid_max,\n",
    "                    spermidine * spermidine_max,\n",
    "                    aa * aa_max,\n",
    "                    trna * trna_max,\n",
    "                    dna * dna_mix_max,\n",
    "                    hepes * hepes_max,\n",
    "                    extract * extract_max]\n",
    "\n",
    "this_sample_conc = np.reshape(this_sample_conc, (1, 13)) \n",
    "all_min_except_one_high = np.concatenate((all_min_except_one_high, this_sample_conc), axis = 0)"
   ]
  },
  {
   "cell_type": "code",
   "execution_count": 153,
   "metadata": {},
   "outputs": [],
   "source": [
    "this_sample_conc = [mg_glutamate * mg_glutamate_max,\n",
    "                    k_glutamate * k_glutamate_max,\n",
    "                    sodiumoxalate * sodiumoxalate_max,\n",
    "                    pga * pga_max,\n",
    "                    nucleotides_mix * nucleotides_mix_max,\n",
    "                    nad * nad_max,\n",
    "                    1 * folinic_acid_max,\n",
    "                    spermidine * spermidine_max,\n",
    "                    aa * aa_max,\n",
    "                    trna * trna_max,\n",
    "                    dna * dna_mix_max,\n",
    "                    hepes * hepes_max,\n",
    "                    extract * extract_max]\n",
    "\n",
    "this_sample_conc = np.reshape(this_sample_conc, (1, 13)) \n",
    "all_min_except_one_high = np.concatenate((all_min_except_one_high, this_sample_conc), axis = 0)"
   ]
  },
  {
   "cell_type": "code",
   "execution_count": 154,
   "metadata": {},
   "outputs": [],
   "source": [
    "this_sample_conc = [mg_glutamate * mg_glutamate_max,\n",
    "                    k_glutamate * k_glutamate_max,\n",
    "                    sodiumoxalate * sodiumoxalate_max,\n",
    "                    pga * pga_max,\n",
    "                    nucleotides_mix * nucleotides_mix_max,\n",
    "                    nad * nad_max,\n",
    "                    folinic_acid * folinic_acid_max,\n",
    "                    1 * spermidine_max,\n",
    "                    aa * aa_max,\n",
    "                    trna * trna_max,\n",
    "                    dna * dna_mix_max,\n",
    "                    hepes * hepes_max,\n",
    "                    extract * extract_max]\n",
    "\n",
    "this_sample_conc = np.reshape(this_sample_conc, (1, 13)) \n",
    "all_min_except_one_high = np.concatenate((all_min_except_one_high, this_sample_conc), axis = 0)"
   ]
  },
  {
   "cell_type": "code",
   "execution_count": 155,
   "metadata": {},
   "outputs": [],
   "source": [
    "this_sample_conc = [mg_glutamate * mg_glutamate_max,\n",
    "                    k_glutamate * k_glutamate_max,\n",
    "                    sodiumoxalate * sodiumoxalate_max,\n",
    "                    pga * pga_max,\n",
    "                    nucleotides_mix * nucleotides_mix_max,\n",
    "                    nad * nad_max,\n",
    "                    folinic_acid * folinic_acid_max,\n",
    "                    spermidine * spermidine_max,\n",
    "                    1 * aa_max,\n",
    "                    trna * trna_max,\n",
    "                    dna * dna_mix_max,\n",
    "                    hepes * hepes_max,\n",
    "                    extract * extract_max]\n",
    "\n",
    "this_sample_conc = np.reshape(this_sample_conc, (1, 13)) \n",
    "all_min_except_one_high = np.concatenate((all_min_except_one_high, this_sample_conc), axis = 0)"
   ]
  },
  {
   "cell_type": "code",
   "execution_count": 156,
   "metadata": {},
   "outputs": [],
   "source": [
    "this_sample_conc = [mg_glutamate * mg_glutamate_max,\n",
    "                    k_glutamate * k_glutamate_max,\n",
    "                    sodiumoxalate * sodiumoxalate_max,\n",
    "                    pga * pga_max,\n",
    "                    nucleotides_mix * nucleotides_mix_max,\n",
    "                    nad * nad_max,\n",
    "                    folinic_acid * folinic_acid_max,\n",
    "                    spermidine * spermidine_max,\n",
    "                    aa * aa_max,\n",
    "                    1 * trna_max,\n",
    "                    dna * dna_mix_max,\n",
    "                    hepes * hepes_max,\n",
    "                    extract * extract_max]\n",
    "\n",
    "this_sample_conc = np.reshape(this_sample_conc, (1, 13)) \n",
    "all_min_except_one_high = np.concatenate((all_min_except_one_high, this_sample_conc), axis = 0)"
   ]
  },
  {
   "cell_type": "code",
   "execution_count": 157,
   "metadata": {},
   "outputs": [],
   "source": [
    "this_sample_conc = [mg_glutamate * mg_glutamate_max,\n",
    "                    k_glutamate * k_glutamate_max,\n",
    "                    sodiumoxalate * sodiumoxalate_max,\n",
    "                    pga * pga_max,\n",
    "                    nucleotides_mix * nucleotides_mix_max,\n",
    "                    nad * nad_max,\n",
    "                    folinic_acid * folinic_acid_max,\n",
    "                    spermidine * spermidine_max,\n",
    "                    aa * aa_max,\n",
    "                    trna * trna_max,\n",
    "                    dna * dna_mix_max,\n",
    "                    hepes * hepes_max,\n",
    "                    extract * extract_max]\n",
    "\n",
    "this_sample_conc = np.reshape(this_sample_conc, (1, 13)) \n",
    "all_min_except_one_high = np.concatenate((all_min_except_one_high, this_sample_conc), axis = 0)"
   ]
  },
  {
   "cell_type": "code",
   "execution_count": 158,
   "metadata": {},
   "outputs": [
    {
     "name": "stdout",
     "output_type": "stream",
     "text": [
      "(12, 13)\n"
     ]
    }
   ],
   "source": [
    "print(all_min_except_one_high.shape)"
   ]
  },
  {
   "cell_type": "markdown",
   "metadata": {},
   "source": [
    "# Filling the rest randomly"
   ]
  },
  {
   "cell_type": "markdown",
   "metadata": {},
   "source": [
    "The rest of the plate will be filled randomly, while avoiding repeats."
   ]
  },
  {
   "cell_type": "code",
   "execution_count": 159,
   "metadata": {},
   "outputs": [],
   "source": [
    "answer_array = np.concatenate((ctrl_array, all_max_except_one_low, all_min_except_one_high), axis = 0)"
   ]
  },
  {
   "cell_type": "code",
   "execution_count": 160,
   "metadata": {},
   "outputs": [
    {
     "name": "stdout",
     "output_type": "stream",
     "text": [
      "(26, 13)\n"
     ]
    }
   ],
   "source": [
    "print(answer_array.shape)"
   ]
  },
  {
   "cell_type": "code",
   "execution_count": 161,
   "metadata": {},
   "outputs": [],
   "source": [
    "def present_in_array_index(new_sample, array):\n",
    "    \n",
    "    \"\"\"\n",
    "    Verify if a sample is present in an array.\n",
    "    \"\"\"\n",
    "    \n",
    "    if array is None:\n",
    "        return(False, -1)\n",
    "    present = False\n",
    "    new_sample = np.reshape(np.array(new_sample), (1, 13))\n",
    "    for i in range(array.shape[0]):\n",
    "        if np.array_equiv(array[i,:],new_sample):\n",
    "            present = True\n",
    "            break   \n",
    "    return(present, i)"
   ]
  },
  {
   "cell_type": "code",
   "execution_count": 162,
   "metadata": {},
   "outputs": [],
   "source": [
    "def generate_random_grid(array_to_avoid, sample_size = 100):\n",
    "    active_learning_array = array_to_avoid\n",
    "    if array_to_avoid is None:\n",
    "        answerSize = 0\n",
    "    else:\n",
    "        answerSize = active_learning_array.shape[0]\n",
    "    \n",
    "    # Components at fixed concentrations\n",
    "    extract = extract_ratios[0]\n",
    "    dna = dna_mix_ratios[1]\n",
    "    hepes = hepes_ratios[0]\n",
    "\n",
    "    while answerSize < sample_size:\n",
    "        this_sample = np.random.randint(0, high=3, size=11, dtype='int')\n",
    "        this_sample_conc = [mg_glutamate_ratios[this_sample[0]] * mg_glutamate_max, \n",
    "                            k_glutamate_ratios[this_sample[1]] * k_glutamate_max,\n",
    "                            sodiumoxalate_ratios[this_sample[2]] * sodiumoxalate_max,\n",
    "                            pga_ratios[this_sample[3]] * pga_max,\n",
    "                            nucleotides_mix_ratios[this_sample[4]] * nucleotides_mix_max,\n",
    "                            nad_ratios[this_sample[5]] * nad_max,\n",
    "                            folinic_acid_ratios[this_sample[6]] * folinic_acid_max,\n",
    "                            spermidine_ratios[this_sample[7]] * spermidine_max,\n",
    "                            aa_ratios[this_sample[8]] * aa_max,\n",
    "                            trna_ratios[this_sample[9]] * trna_max, \n",
    "                            extract * extract_max,\n",
    "                            dna * dna_mix_max,\n",
    "                            hepes * hepes_max]\n",
    "        \n",
    "        this_sample_conc = np.reshape(this_sample_conc, (1, 13))\n",
    "        if not present_in_array_index(this_sample_conc, active_learning_array)[0]:\n",
    "            answerSize = answerSize + 1\n",
    "            if active_learning_array is None:\n",
    "                active_learning_array = this_sample_conc\n",
    "            else:\n",
    "                active_learning_array = np.concatenate((active_learning_array, this_sample_conc), axis = 0)\n",
    "    return(active_learning_array)"
   ]
  },
  {
   "cell_type": "code",
   "execution_count": 163,
   "metadata": {},
   "outputs": [],
   "source": [
    "answer_array = generate_random_grid(answer_array, sample_size = 102)"
   ]
  },
  {
   "cell_type": "code",
   "execution_count": 164,
   "metadata": {},
   "outputs": [],
   "source": [
    "# Saving output in csv file\n",
    "headers = \"Mg-glutamate; k-glutamate; Sodium oxalate; 3-PGA; NTP; NAD; Folinic acid; Spermidine; tRNA; Amino acids; Extract; DNA; HEPES\"\n",
    "np.savetxt(\"{}/initial_plate_proCFPS.csv\".format(data_folder), answer_array, delimiter=\";\", header = headers,fmt='%.5f')"
   ]
  },
  {
   "cell_type": "code",
   "execution_count": null,
   "metadata": {},
   "outputs": [],
   "source": []
  }
 ],
 "metadata": {
  "anaconda-cloud": {},
  "kernelspec": {
   "display_name": "Python 3",
   "language": "python",
   "name": "python3"
  },
  "language_info": {
   "codemirror_mode": {
    "name": "ipython",
    "version": 3
   },
   "file_extension": ".py",
   "mimetype": "text/x-python",
   "name": "python",
   "nbconvert_exporter": "python",
   "pygments_lexer": "ipython3",
   "version": "3.8.8"
  }
 },
 "nbformat": 4,
 "nbformat_minor": 1
}
