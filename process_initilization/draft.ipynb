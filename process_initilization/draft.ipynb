{
 "cells": [
  {
   "cell_type": "code",
   "execution_count": null,
   "metadata": {},
   "outputs": [],
   "source": [
    "\n",
    "# if 'fixed' in input.values:\n",
    "#     fixed_parameters = input[input['Status'] == 'fixed']\n",
    "#     maximum_fixed_concentrations = fixed_parameters['Maximum concentration'].tolist()\n",
    "#     fixed_parameters = fixed_parameters['Parameter'].to_numpy()\n",
    "#     n_fixed_parameters = np.shape(fixed_parameters)[0]\n",
    "    \n",
    "# if 'variables' in input.values:\n",
    "#     variable_parameters = input[input['Status'] == 'variable']\n",
    "#     maximum_variable_concentrations = variable_parameters['Maximum concentration'].to_numpy()\n",
    "#     maximum_variable_concentrations = np.reshape(maximum_variable_concentrations, (1, n_variable_parameters))\n",
    "#     variable_parameters = variable_parameters['Parameter'].to_numpy()\n",
    "#     n_variable_parameters = np.shape(variable_parameters)[0]\n",
    "\n",
    "if 'fixed' in getattr(input, 'Status') == True:\n",
    "    fixed_parameters = input['Status'] == 'fixed'\n",
    "    maximum_fixed_concentrations = fixed_parameters['Maximum concentration'].tolist()\n",
    "    fixed_parameters = fixed_parameters['Parameter'].to_numpy()\n",
    "    n_fixed_parameters = np.shape(fixed_parameters)[0]\n",
    "\n",
    "# else:\n",
    "#     variable_parameters = input['Status'] == 'variable'\n",
    "#     maximum_variable_concentrations = variable_parameters['Maximum concentration'].to_numpy()\n",
    "#     maximum_variable_concentrations = np.reshape(maximum_variable_concentrations, (1, n_variable_parameters))\n",
    "#     variable_parameters = variable_parameters['Parameter'].to_numpy()\n",
    "#     n_variable_parameters = np.shape(variable_parameters)[0]\n",
    "\n",
    "\n",
    "n_fixed_parameters\n",
    "# print(fixed_parameters)\n",
    "# print(maximum_fixed_concentrations)\n",
    "# print(n_fixed_parameters)\n",
    "# print(fixed_parameters)\n",
    "# print(maximum_fixed_concentrations)\n",
    "# print(n_fixed_parameters)\n",
    "\n",
    "# maximum_concentrations_sample = input['Maximum concentration'].to_numpy()\n"
   ]
  }
 ],
 "metadata": {
  "language_info": {
   "name": "python"
  },
  "orig_nbformat": 4
 },
 "nbformat": 4,
 "nbformat_minor": 2
}
