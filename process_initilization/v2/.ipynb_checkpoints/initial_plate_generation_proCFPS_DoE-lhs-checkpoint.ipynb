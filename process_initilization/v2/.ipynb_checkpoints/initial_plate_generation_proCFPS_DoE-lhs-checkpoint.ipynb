{
 "cells": [
  {
   "cell_type": "markdown",
   "id": "fcc74a3b",
   "metadata": {},
   "source": [
    "### Python libraries import"
   ]
  },
  {
   "cell_type": "code",
   "execution_count": 159,
   "id": "4ed0a960",
   "metadata": {},
   "outputs": [],
   "source": [
    "import csv\n",
    "import pandas as pd\n",
    "from pyDOE2 import *\n",
    "import numpy as np"
   ]
  },
  {
   "cell_type": "markdown",
   "id": "53fa6f70",
   "metadata": {},
   "source": [
    "### Cell-free buffer parameters"
   ]
  },
  {
   "cell_type": "code",
   "execution_count": 171,
   "id": "01a3ca28",
   "metadata": {},
   "outputs": [
    {
     "data": {
      "text/plain": [
       "{'Parameter': {0: 'Mg-glutamate',\n",
       "  1: 'k-glutamate',\n",
       "  2: 'Sodium oxalate',\n",
       "  3: '3-PGA',\n",
       "  4: 'NTP',\n",
       "  5: 'NAD',\n",
       "  6: 'Folinic acid',\n",
       "  7: 'Spermidine',\n",
       "  8: 'tRNA',\n",
       "  9: 'Amino acids',\n",
       "  10: 'Extract',\n",
       "  11: 'HEPES',\n",
       "  12: 'GOI-DNA',\n",
       "  13: 'GFP-DNA'},\n",
       " 'Maximum concentration': {0: 10.4,\n",
       "  1: 355.0,\n",
       "  2: 2.1,\n",
       "  3: 30.0,\n",
       "  4: 1.5,\n",
       "  5: 30.0,\n",
       "  6: 0.2,\n",
       "  7: 1.3,\n",
       "  8: 2.0,\n",
       "  9: 0.5,\n",
       "  10: 10.0,\n",
       "  11: 30.0,\n",
       "  12: 50.0,\n",
       "  13: 50.0}}"
      ]
     },
     "execution_count": 171,
     "metadata": {},
     "output_type": "execute_result"
    }
   ],
   "source": [
    "# Open CSV input and parse for parameters\n",
    "# file = open('proCFPS_parameters.csv')\n",
    "# csvreader = csv.reader(file)\n",
    "# parameters = []\n",
    "# for parameter in csvreader:\n",
    "#         parameters.append(parameter)\n",
    "# file.close()\n",
    "# parameters\n",
    "\n",
    "# # Open CSV input and parse for parameters\n",
    "# file = open('proCFPS_parameters.csv')\n",
    "# csvreader = csv.reader(file)\n",
    "# parameters = {}\n",
    "# for parameter in csvreader:\n",
    "#         parameters = {key: row for key, *row in csvreader}\n",
    "# file.close()\n",
    "\n",
    "# parameters.values()\n",
    "# variable_parameters = []\n",
    "# fixed_parameters = []\n",
    "# maximum_concentration = []\n",
    "# parameters['Status'] = parameters['First_name'].apply(lambda x: 'Found' if x == 'Ria' else 'Not Found')\n",
    "\n",
    "parameters = pd.read_csv('proCFPS_parameters.csv')\n",
    "concentrations = parameters[['Parameter', 'Maximum concentration']]\n",
    "concentrations = concentrations.to_dict()\n",
    "concentrations"
   ]
  },
  {
   "cell_type": "markdown",
   "id": "7ce28e25",
   "metadata": {},
   "source": [
    "### Latin hypercube sampling"
   ]
  },
  {
   "cell_type": "code",
   "execution_count": 142,
   "id": "9538217a",
   "metadata": {},
   "outputs": [],
   "source": [
    "# Define number of parameters\n",
    "n_parameters = len(parameters)\n",
    "# Replace with n_parameters = len(variable_parameters)\n",
    "\n",
    "# Define number of samples to generate\n",
    "n_samples = 100\n",
    "\n",
    "# Define number of ratios\n",
    "n_ratios = 5\n",
    "\n",
    "# Perform latin hypercube sampling\n",
    "sampling = lhs(n_parameters, samples=n_samples)"
   ]
  },
  {
   "cell_type": "code",
   "execution_count": 143,
   "id": "b95c0e4a",
   "metadata": {},
   "outputs": [],
   "source": [
    "# Define ratios\n",
    "levels = (1 / n_ratios)\n",
    "\n",
    "level_1 = levels\n",
    "level_2 = level_1*2\n",
    "level_3 = level_1*3\n",
    "level_4 = level_1*4\n",
    "level_5 = level_1*5\n",
    "\n",
    "# Generate multi-level list\n",
    "levels_list = []\n",
    "\n",
    "for experiment in sampling:\n",
    "    new_experiment = []\n",
    "    \n",
    "    for parameter in experiment:\n",
    "        \n",
    "        if parameter < level_1:\n",
    "            new_experiment.append(0)\n",
    "            continue\n",
    "        \n",
    "        if parameter > level_1 and parameter <= level_2:\n",
    "            new_experiment.append(level_1)\n",
    "            continue\n",
    "        \n",
    "        if parameter > level_2 and parameter <= level_3:\n",
    "            new_experiment.append(level_2)\n",
    "            continue\n",
    "        \n",
    "        if parameter > level_3 and parameter <= level_4:\n",
    "            new_experiment.append(level_3)\n",
    "            continue\n",
    "            \n",
    "        if parameter > level_4 and parameter <= level_5:\n",
    "            new_experiment.append(level_4)\n",
    "            continue\n",
    "    \n",
    "    levels_list.append(new_experiment)\n",
    "\n",
    "# Convert multi-level list to a multi-level array\n",
    "levels_array = np.asarray(levels_list)"
   ]
  },
  {
   "cell_type": "markdown",
   "id": "4001f674",
   "metadata": {},
   "source": [
    "### Generating multi-level concentration array"
   ]
  },
  {
   "cell_type": "code",
   "execution_count": 148,
   "id": "566511ef",
   "metadata": {},
   "outputs": [
    {
     "ename": "TypeError",
     "evalue": "concatenate() got multiple values for argument 'axis'",
     "output_type": "error",
     "traceback": [
      "\u001b[0;31m---------------------------------------------------------------------------\u001b[0m",
      "\u001b[0;31mTypeError\u001b[0m                                 Traceback (most recent call last)",
      "\u001b[0;32m<ipython-input-148-6b1f1f061fdb>\u001b[0m in \u001b[0;36m<module>\u001b[0;34m\u001b[0m\n\u001b[1;32m      5\u001b[0m \u001b[0mvariable_concentrations_array\u001b[0m \u001b[0;34m=\u001b[0m \u001b[0mnp\u001b[0m\u001b[0;34m.\u001b[0m\u001b[0mmultiply\u001b[0m\u001b[0;34m(\u001b[0m\u001b[0mlevels_array\u001b[0m\u001b[0;34m,\u001b[0m \u001b[0mmaximum_concentrations_array\u001b[0m\u001b[0;34m)\u001b[0m\u001b[0;34m\u001b[0m\u001b[0;34m\u001b[0m\u001b[0m\n\u001b[1;32m      6\u001b[0m \u001b[0mfixed_concentrations_array\u001b[0m \u001b[0;34m=\u001b[0m \u001b[0;34m(\u001b[0m\u001b[0mnp\u001b[0m\u001b[0;34m.\u001b[0m\u001b[0mfull\u001b[0m\u001b[0;34m(\u001b[0m\u001b[0;34m(\u001b[0m\u001b[0;36m100\u001b[0m\u001b[0;34m,\u001b[0m \u001b[0;36m1\u001b[0m\u001b[0;34m)\u001b[0m\u001b[0;34m,\u001b[0m \u001b[0;36m50\u001b[0m\u001b[0;34m)\u001b[0m\u001b[0;34m)\u001b[0m\u001b[0;34m\u001b[0m\u001b[0;34m\u001b[0m\u001b[0m\n\u001b[0;32m----> 7\u001b[0;31m \u001b[0mfinal_concentration_array\u001b[0m \u001b[0;34m=\u001b[0m \u001b[0mnp\u001b[0m\u001b[0;34m.\u001b[0m\u001b[0mconcatenate\u001b[0m\u001b[0;34m(\u001b[0m\u001b[0mvariable_concentrations_array\u001b[0m\u001b[0;34m,\u001b[0m \u001b[0mfixed_concentrations_array\u001b[0m\u001b[0;34m,\u001b[0m \u001b[0maxis\u001b[0m\u001b[0;34m=\u001b[0m\u001b[0;32mNone\u001b[0m\u001b[0;34m)\u001b[0m\u001b[0;34m\u001b[0m\u001b[0;34m\u001b[0m\u001b[0m\n\u001b[0m",
      "\u001b[0;32m<__array_function__ internals>\u001b[0m in \u001b[0;36mconcatenate\u001b[0;34m(*args, **kwargs)\u001b[0m\n",
      "\u001b[0;31mTypeError\u001b[0m: concatenate() got multiple values for argument 'axis'"
     ]
    }
   ],
   "source": [
    "# Define maximum concentrations for each cell-free buffer parameter\n",
    "maximum_concentrations_array = np.array([10.4, 355, 2.1, 30, 1.5, 30, 0.2, 1.3, 2, 0.5, 10, 30])\n",
    "\n",
    "# Multiply ratios array by maximum concentrations vector\n",
    "variable_concentrations_array = np.multiply(levels_array, maximum_concentrations_array)\n",
    "fixed_concentrations_array = (np.full((100, 1), 50))\n",
    "final_concentration_array = np.concatenate(variable_concentrations_array, fixed_concentrations_array, axis=None)"
   ]
  },
  {
   "cell_type": "code",
   "execution_count": 133,
   "id": "fbdee32a",
   "metadata": {},
   "outputs": [],
   "source": [
    "# Save output in a csv file\n",
    "headers = \"Mg-glutamate; k-glutamate; Sodium oxalate; 3-PGA; NTP; NAD; Folinic acid; Spermidine; tRNA; Amino acids; Extract; HEPES; GOI-DNA; GFP-DNA\"\n",
    "output = np.savetxt(\"initial_plate.csv\", concentrations_array, delimiter=\";\", header = headers, fmt='%.5f')"
   ]
  },
  {
   "cell_type": "code",
   "execution_count": null,
   "id": "a1905614",
   "metadata": {},
   "outputs": [],
   "source": []
  }
 ],
 "metadata": {
  "kernelspec": {
   "display_name": "Python 3",
   "language": "python",
   "name": "python3"
  },
  "language_info": {
   "codemirror_mode": {
    "name": "ipython",
    "version": 3
   },
   "file_extension": ".py",
   "mimetype": "text/x-python",
   "name": "python",
   "nbconvert_exporter": "python",
   "pygments_lexer": "ipython3",
   "version": "3.8.8"
  }
 },
 "nbformat": 4,
 "nbformat_minor": 5
}
