{
 "cells": [
  {
   "cell_type": "code",
   "execution_count": 29,
   "id": "5c5e6102",
   "metadata": {},
   "outputs": [],
   "source": [
    "from pyDOE2 import *\n",
    "import seaborn as sns\n",
    "import matplotlib.pyplot as plt"
   ]
  },
  {
   "cell_type": "code",
   "execution_count": 30,
   "id": "23360a0f",
   "metadata": {},
   "outputs": [],
   "source": [
    "parameters = [\"Mg-glutamate\", \"k-glutamate\", \"Sodium oxalate\", \"3-PGA\", \"NTP\", \"NAD\", \"Folinic acid\", \"Spermidine\", \"tRNA\", \"Amino acids\", \"Extract\", \"DNA\", \"HEPES\"]"
   ]
  },
  {
   "cell_type": "code",
   "execution_count": 31,
   "id": "9538217a",
   "metadata": {},
   "outputs": [],
   "source": [
    "n_parameters = len(parameters)\n",
    "n_samples = 100\n",
    "parameters_ratios = [0, 0.1, 0.3, 0.5, 1]\n",
    "n_ratios = len(parameters_ratios)"
   ]
  },
  {
   "cell_type": "code",
   "execution_count": 32,
   "id": "260e65df",
   "metadata": {},
   "outputs": [],
   "source": [
    "sampling = lhs(n_parameters, samples=n_samples)"
   ]
  },
  {
   "cell_type": "code",
   "execution_count": 36,
   "id": "b95c0e4a",
   "metadata": {},
   "outputs": [
    {
     "name": "stdout",
     "output_type": "stream",
     "text": [
      "0 0.2 0.4 0.6000000000000001 1.0\n"
     ]
    },
    {
     "data": {
      "image/png": "[encoded data removed]",
      "text/plain": [
       "<Figure size 432x288 with 2 Axes>"
      ]
     },
     "metadata": {
      "needs_background": "light"
     },
     "output_type": "display_data"
    },
    {
     "data": {
      "text/plain": [
       "[[2, 4, 4, 3, 3, 2, 4, 3, 3, 1, 1, 4, 4],\n",
       " [3, 1, 4, 1, 2, 1, 4, 3, 4, 3, 2, 4, 4],\n",
       " [1, 1, 4, 4, 4, 3, 2, 4, 4, 4, 1, 4, 1],\n",
       " [1, 1, 1, 4, 3, 4, 4, 2, 4, 1, 1, 2, 2],\n",
       " [4, 4, 1, 4, 3, 2, 2, 2, 4, 1, 4, 3, 2],\n",
       " [4, 1, 4, 3, 2, 4, 4, 4, 4, 3, 2, 2, 4],\n",
       " [4, 3, 3, 4, 1, 1, 4, 4, 2, 4, 4, 2, 4],\n",
       " [2, 4, 2, 2, 4, 4, 1, 1, 1, 4, 3, 2, 3],\n",
       " [4, 4, 1, 2, 3, 4, 4, 3, 1, 3, 4, 4, 3],\n",
       " [1, 2, 4, 3, 4, 3, 3, 4, 4, 4, 4, 2, 3],\n",
       " [4, 4, 4, 1, 4, 3, 1, 4, 3, 1, 2, 1, 3],\n",
       " [4, 1, 2, 4, 4, 1, 1, 1, 3, 4, 2, 1, 3],\n",
       " [3, 4, 4, 3, 2, 4, 4, 1, 1, 4, 2, 3, 1],\n",
       " [2, 2, 4, 1, 4, 2, 3, 4, 1, 4, 4, 3, 3],\n",
       " [4, 2, 3, 4, 4, 4, 1, 3, 4, 3, 3, 4, 1],\n",
       " [4, 2, 4, 4, 4, 4, 4, 4, 2, 4, 1, 2, 2],\n",
       " [1, 2, 4, 1, 2, 3, 1, 3, 4, 4, 1, 1, 1],\n",
       " [2, 4, 4, 1, 2, 4, 1, 2, 3, 3, 3, 3, 1],\n",
       " [1, 3, 4, 1, 4, 2, 2, 4, 1, 2, 4, 1, 4],\n",
       " [2, 3, 4, 2, 1, 2, 1, 2, 1, 2, 2, 4, 4],\n",
       " [4, 1, 3, 1, 4, 4, 1, 2, 2, 3, 4, 1, 4],\n",
       " [2, 4, 3, 3, 3, 4, 3, 3, 1, 4, 2, 2, 4],\n",
       " [4, 4, 1, 4, 1, 1, 3, 1, 3, 4, 1, 3, 3],\n",
       " [2, 2, 4, 3, 1, 1, 3, 4, 1, 4, 3, 4, 3],\n",
       " [1, 4, 4, 2, 1, 1, 4, 3, 4, 4, 1, 4, 1],\n",
       " [4, 3, 2, 2, 2, 3, 2, 3, 4, 3, 1, 4, 1],\n",
       " [3, 4, 4, 3, 4, 1, 2, 2, 4, 2, 2, 4, 1],\n",
       " [3, 4, 3, 4, 2, 2, 4, 2, 2, 4, 1, 3, 4],\n",
       " [3, 2, 2, 2, 4, 4, 3, 2, 3, 1, 3, 4, 3],\n",
       " [3, 1, 4, 4, 3, 4, 1, 4, 1, 2, 3, 4, 2],\n",
       " [4, 2, 4, 4, 1, 2, 2, 1, 1, 4, 4, 3, 4],\n",
       " [2, 4, 3, 4, 4, 1, 3, 3, 2, 4, 2, 1, 3],\n",
       " [3, 4, 3, 1, 3, 2, 4, 1, 2, 4, 4, 2, 3],\n",
       " [2, 3, 3, 2, 4, 4, 3, 2, 3, 2, 2, 1, 2],\n",
       " [4, 2, 2, 2, 3, 3, 4, 4, 4, 4, 4, 4, 2],\n",
       " [4, 1, 2, 4, 4, 3, 1, 3, 4, 1, 4, 4, 4],\n",
       " [4, 4, 1, 4, 4, 3, 1, 4, 4, 3, 4, 3, 2],\n",
       " [4, 4, 4, 4, 4, 1, 4, 4, 3, 4, 3, 3, 4],\n",
       " [1, 3, 2, 1, 1, 2, 4, 4, 4, 1, 4, 2, 3],\n",
       " [1, 3, 2, 1, 4, 4, 1, 2, 1, 2, 4, 2, 2],\n",
       " [4, 3, 2, 4, 2, 2, 4, 2, 2, 3, 4, 4, 4],\n",
       " [2, 1, 1, 2, 4, 3, 4, 3, 3, 4, 4, 4, 1],\n",
       " [4, 4, 1, 3, 4, 4, 4, 1, 4, 3, 4, 4, 1],\n",
       " [1, 1, 1, 4, 4, 3, 2, 3, 4, 4, 3, 4, 1],\n",
       " [3, 1, 2, 4, 1, 1, 4, 4, 4, 4, 1, 4, 3],\n",
       " [1, 1, 3, 4, 4, 3, 4, 4, 4, 4, 3, 2, 2],\n",
       " [4, 4, 3, 4, 1, 4, 4, 1, 4, 3, 2, 2, 4],\n",
       " [4, 3, 2, 1, 4, 3, 4, 4, 4, 4, 4, 1, 4],\n",
       " [2, 3, 2, 1, 2, 4, 1, 4, 2, 1, 2, 4, 4],\n",
       " [2, 2, 3, 3, 2, 4, 3, 4, 3, 3, 4, 3, 1],\n",
       " [1, 4, 2, 3, 1, 1, 4, 4, 2, 3, 4, 1, 1],\n",
       " [4, 2, 4, 4, 1, 2, 2, 4, 4, 4, 4, 4, 2],\n",
       " [4, 4, 1, 4, 4, 1, 4, 4, 3, 4, 4, 4, 4],\n",
       " [1, 2, 3, 4, 4, 2, 4, 4, 4, 3, 4, 4, 2],\n",
       " [1, 4, 4, 4, 4, 1, 2, 4, 4, 4, 4, 2, 1],\n",
       " [4, 4, 1, 1, 1, 1, 3, 2, 1, 2, 2, 1, 4],\n",
       " [4, 4, 3, 4, 4, 3, 4, 2, 1, 4, 3, 4, 4],\n",
       " [3, 3, 4, 3, 2, 4, 3, 4, 3, 2, 2, 3, 3],\n",
       " [3, 3, 3, 3, 4, 3, 2, 4, 2, 4, 3, 3, 2],\n",
       " [1, 4, 1, 2, 3, 1, 4, 2, 2, 1, 1, 1, 4],\n",
       " [3, 1, 4, 2, 3, 1, 1, 1, 3, 4, 4, 3, 4],\n",
       " [4, 3, 3, 4, 1, 4, 4, 1, 4, 2, 2, 4, 1],\n",
       " [3, 4, 4, 4, 3, 2, 3, 4, 2, 1, 4, 4, 3],\n",
       " [4, 2, 3, 2, 3, 4, 1, 4, 3, 3, 1, 3, 4],\n",
       " [2, 4, 1, 1, 2, 4, 4, 4, 4, 4, 4, 3, 3],\n",
       " [2, 4, 4, 2, 4, 4, 2, 1, 3, 1, 4, 1, 4],\n",
       " [4, 4, 2, 3, 3, 4, 4, 3, 2, 2, 4, 2, 4],\n",
       " [4, 2, 4, 1, 2, 2, 3, 3, 3, 1, 4, 4, 2],\n",
       " [2, 4, 1, 3, 4, 2, 3, 2, 4, 1, 1, 4, 1],\n",
       " [4, 4, 3, 1, 2, 4, 3, 1, 2, 4, 4, 2, 3],\n",
       " [3, 1, 2, 1, 1, 2, 1, 3, 3, 4, 3, 4, 4],\n",
       " [4, 3, 1, 4, 2, 4, 2, 1, 1, 3, 3, 3, 4],\n",
       " [2, 4, 2, 2, 4, 4, 3, 1, 4, 1, 2, 4, 2],\n",
       " [1, 3, 4, 3, 3, 1, 2, 4, 4, 3, 4, 4, 4],\n",
       " [1, 2, 3, 1, 3, 4, 2, 4, 1, 2, 3, 3, 3],\n",
       " [3, 1, 4, 2, 1, 2, 4, 1, 4, 1, 2, 1, 4],\n",
       " [4, 1, 4, 4, 4, 2, 1, 3, 1, 3, 3, 4, 3],\n",
       " [1, 4, 4, 4, 3, 3, 4, 1, 4, 4, 4, 2, 4],\n",
       " [2, 4, 4, 2, 3, 4, 2, 4, 2, 4, 4, 4, 4],\n",
       " [4, 3, 1, 3, 1, 4, 2, 4, 2, 1, 4, 1, 4],\n",
       " [3, 1, 1, 3, 4, 3, 4, 4, 3, 2, 3, 4, 4],\n",
       " [4, 2, 2, 1, 3, 3, 4, 3, 3, 2, 3, 4, 1],\n",
       " [4, 2, 4, 4, 1, 4, 3, 4, 2, 2, 2, 3, 2],\n",
       " [4, 2, 1, 1, 4, 4, 4, 1, 4, 2, 4, 2, 4],\n",
       " [1, 4, 4, 4, 2, 4, 4, 2, 1, 4, 2, 4, 4],\n",
       " [2, 3, 1, 2, 2, 4, 1, 3, 2, 2, 2, 4, 3],\n",
       " [2, 4, 2, 3, 4, 1, 2, 1, 4, 3, 1, 2, 4],\n",
       " [4, 1, 1, 4, 3, 3, 4, 3, 4, 1, 3, 3, 2],\n",
       " [3, 2, 4, 4, 1, 3, 4, 2, 4, 4, 1, 4, 2],\n",
       " [1, 2, 1, 2, 3, 1, 4, 4, 2, 4, 4, 2, 1],\n",
       " [4, 1, 4, 3, 4, 2, 2, 4, 3, 4, 1, 1, 2],\n",
       " [4, 4, 4, 4, 4, 4, 4, 2, 1, 2, 3, 1, 1],\n",
       " [1, 3, 3, 4, 2, 3, 4, 4, 4, 2, 4, 3, 4],\n",
       " [3, 4, 4, 4, 1, 1, 3, 4, 4, 1, 1, 4, 4],\n",
       " [3, 4, 2, 2, 4, 4, 1, 3, 4, 3, 4, 1, 4],\n",
       " [2, 3, 4, 4, 1, 4, 2, 2, 1, 1, 1, 2, 1],\n",
       " [4, 4, 4, 4, 4, 4, 1, 2, 4, 2, 1, 1, 2],\n",
       " [3, 3, 4, 2, 2, 2, 3, 1, 4, 1, 1, 1, 2],\n",
       " [3, 1, 3, 4, 4, 4, 2, 1, 1, 2, 3, 4, 4],\n",
       " [4, 4, 2, 3, 2, 4, 3, 4, 2, 4, 4, 1, 4]]"
      ]
     },
     "execution_count": 36,
     "metadata": {},
     "output_type": "execute_result"
    }
   ],
   "source": [
    "ratios = (1 / n_ratios)\n",
    "\n",
    "ratio_1 = 0\n",
    "ratio_2 = ratios*1\n",
    "ratio_3 = ratio_2*2\n",
    "ratio_4 = ratio_2*3\n",
    "ratio_5 = ratio_2*5\n",
    "\n",
    "ratios_array = []\n",
    "\n",
    "for experiment in sampling:\n",
    "    new_experiment = []\n",
    "    \n",
    "    for element in experiment:\n",
    "        \n",
    "        if element==ratio_1:\n",
    "            new_experiment.append(0)\n",
    "            continue\n",
    "        \n",
    "        if element > ratio_1 and element <= ratio_2:\n",
    "            new_experiment.append(1)\n",
    "            continue\n",
    "        \n",
    "        if element > ratio_2 and element <= ratio_3:\n",
    "            new_experiment.append(2)\n",
    "            continue\n",
    "        \n",
    "        if element > ratio_3 and element <= ratio_4:\n",
    "            new_experiment.append(3)\n",
    "            continue\n",
    "            \n",
    "        if element > ratio_4 and element <= ratio_5:\n",
    "            new_experiment.append(4)\n",
    "            continue\n",
    "    \n",
    "    ratios_array.append(new_experiment)\n",
    "\n",
    "sns.heatmap(ratios_array)\n",
    "plt.show()\n",
    "ratios_array"
   ]
  },
  {
   "cell_type": "code",
   "execution_count": 38,
   "id": "c5cc52a6",
   "metadata": {},
   "outputs": [],
   "source": [
    "media = ratios_array\n",
    "hum_varmed = parameters\n",
    "\n",
    "max_VER_factor = 2.5\n",
    "batch_vol = 800\n",
    "VER_allocated_volume = batch_vol / max_VER_factor\n",
    "\n",
    "# levels for concentrations in medium\n",
    "vols = [10.4, 355, 2.1, 30, 1.5, 30, 0.2, 1.3, 2, 0.5, 10, 50, 30] \n",
    "\n",
    "human_readable = \"\"\n",
    "for j in range(len(media)):\n",
    "    \n",
    "    remaining_vol = VER_allocated_volume\n",
    "    \n",
    "    human_readable += str(j+1) + \",\"\n",
    "    medium = media[j]\n",
    "    for i in range(len(medium)):\n",
    "        conc = medium[i]\n",
    "        if conc != 0.0:\n",
    "            \n",
    "            comp = hum_varmed[i]\n",
    "            \n",
    "            vol = vols[conc-1]\n",
    "            \n",
    "            human_readable += comp + \": \" + str(vol) + \",\"\n",
    "            \n",
    "            remaining_vol -= vol\n",
    "            \n",
    "    human_readable += \"Water: \" + str(int(remaining_vol))\n",
    "    human_readable += '\\n'\n",
    "    \n",
    "with open(\"compositions_test.csv\", 'w') as f:\n",
    "    f.write(human_readable)"
   ]
  },
  {
   "cell_type": "code",
   "execution_count": 39,
   "id": "fbdee32a",
   "metadata": {},
   "outputs": [],
   "source": [
    "# Saving output in csv file\n",
    "headers = \"Mg-glutamate; k-glutamate; Sodium oxalate; 3-PGA; NTP; NAD; Folinic acid; Spermidine; tRNA; Amino acids; Extract; DNA; HEPES\"\n",
    "np.savetxt(\"initial_plate.csv\", ratios_array, delimiter=\";\", header = headers, fmt='%.5f')"
   ]
  },
  {
   "cell_type": "code",
   "execution_count": null,
   "id": "81c9c776",
   "metadata": {},
   "outputs": [],
   "source": []
  }
 ],
 "metadata": {
  "kernelspec": {
   "display_name": "Python 3",
   "language": "python",
   "name": "python3"
  },
  "language_info": {
   "codemirror_mode": {
    "name": "ipython",
    "version": 3
   },
   "file_extension": ".py",
   "mimetype": "text/x-python",
   "name": "python",
   "nbconvert_exporter": "python",
   "pygments_lexer": "ipython3",
   "version": "3.8.8"
  }
 },
 "nbformat": 4,
 "nbformat_minor": 5
}
