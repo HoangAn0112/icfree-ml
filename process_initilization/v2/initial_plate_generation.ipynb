{
 "cells": [
  {
   "cell_type": "markdown",
   "id": "fcc74a3b",
   "metadata": {},
   "source": [
    "### Python libraries import"
   ]
  },
  {
   "cell_type": "code",
   "execution_count": 1,
   "id": "4ed0a960",
   "metadata": {},
   "outputs": [],
   "source": [
    "import pandas as pd\n",
    "import numpy as np\n",
    "from pyDOE2 import *"
   ]
  },
  {
   "cell_type": "markdown",
   "id": "53fa6f70",
   "metadata": {},
   "source": [
    "### Processing user input"
   ]
  },
  {
   "cell_type": "code",
   "execution_count": 2,
   "id": "01a3ca28",
   "metadata": {},
   "outputs": [],
   "source": [
    "# Import csv file into a dataframe\n",
    "parameters = pd.read_csv('proCFPS_parameters.csv')"
   ]
  },
  {
   "cell_type": "markdown",
   "id": "72abaae7",
   "metadata": {},
   "source": [
    "### Recover fixed parameters and relative maximum concentrations"
   ]
  },
  {
   "cell_type": "code",
   "execution_count": 3,
   "id": "f7456af5",
   "metadata": {},
   "outputs": [],
   "source": [
    "# Recover fixed parameters\n",
    "fixed_parameters = parameters[parameters['Status'] == 'fixed']\n",
    "fixed_parameters = fixed_parameters['Parameter'].tolist()"
   ]
  },
  {
   "cell_type": "code",
   "execution_count": 4,
   "id": "fcd44dc9",
   "metadata": {},
   "outputs": [],
   "source": [
    "# Recover maximum concentrations of fixed parameters\n",
    "maximum_fixed_concentrations = parameters[parameters['Status'] == 'fixed']\n",
    "maximum_fixed_concentrations = maximum_fixed_concentrations['Maximum concentration'].tolist()"
   ]
  },
  {
   "cell_type": "markdown",
   "id": "c7e717b1",
   "metadata": {},
   "source": [
    "### Recover variable parameters and relative maximum concentrations"
   ]
  },
  {
   "cell_type": "code",
   "execution_count": 7,
   "id": "bfc50f10",
   "metadata": {},
   "outputs": [],
   "source": [
    "# Recover variable parameters\n",
    "variable_parameters = parameters[parameters['Status'] == 'variable']\n",
    "variable_parameters = variable_parameters['Parameter'].tolist()\n",
    "n_variable_parameters = len(variable_parameters)"
   ]
  },
  {
   "cell_type": "code",
   "execution_count": 8,
   "id": "3530cdfc",
   "metadata": {},
   "outputs": [],
   "source": [
    "# Recover maximum concentrations of variable parameters\n",
    "maximum_variable_concentrations = parameters[parameters['Status'] == 'variable']\n",
    "maximum_variable_concentrations = maximum_variable_concentrations['Maximum concentration'].to_numpy()\n",
    "maximum_variable_concentrations = np.reshape(maximum_variable_concentrations, (1, n_variable_parameters))"
   ]
  },
  {
   "cell_type": "markdown",
   "id": "7ce28e25",
   "metadata": {},
   "source": [
    "### Latin hypercube sampling"
   ]
  },
  {
   "cell_type": "code",
   "execution_count": 9,
   "id": "9538217a",
   "metadata": {},
   "outputs": [],
   "source": [
    "# Define number of parameters to be sampled\n",
    "n_parameters = n_variable_parameters\n",
    "\n",
    "# Define number of samples to generate\n",
    "n_samples = 100\n",
    "\n",
    "# Define number of parameters' concentration ratios\n",
    "n_ratios = 5\n",
    "\n",
    "# Perform latin hypercube sampling\n",
    "sampling = lhs(n_parameters, samples=n_samples)\n",
    "\n",
    "# Define levels\n",
    "levels = (1 / n_ratios)\n",
    "\n",
    "level_1 = levels\n",
    "level_2 = level_1*2\n",
    "level_3 = level_1*3\n",
    "level_4 = level_1*4\n",
    "level_5 = level_1*5"
   ]
  },
  {
   "cell_type": "code",
   "execution_count": 10,
   "id": "b95c0e4a",
   "metadata": {},
   "outputs": [],
   "source": [
    "# Generate multi-level list \n",
    "levels_list = []\n",
    "\n",
    "for sample in sampling:\n",
    "    new_sample = []\n",
    "    \n",
    "    for parameter in sample:\n",
    "        \n",
    "        if parameter < level_1:\n",
    "            new_sample.append(0)\n",
    "            continue\n",
    "        \n",
    "        if parameter > level_1 and parameter <= level_2:\n",
    "            new_sample.append(level_1)\n",
    "            continue\n",
    "        \n",
    "        if parameter > level_2 and parameter <= level_3:\n",
    "            new_sample.append(level_2)\n",
    "            continue\n",
    "        \n",
    "        if parameter > level_3 and parameter <= level_4:\n",
    "            new_sample.append(level_3)\n",
    "            continue\n",
    "            \n",
    "        if parameter > level_4 and parameter <= level_5:\n",
    "            new_sample.append(level_4)\n",
    "            continue\n",
    "    \n",
    "    levels_list.append(new_sample)\n",
    "\n",
    "# Convert multi-level list to a multi-level array\n",
    "levels_array = np.asarray(levels_list)"
   ]
  },
  {
   "cell_type": "markdown",
   "id": "4001f674",
   "metadata": {},
   "source": [
    "### Generating multi-level concentration array"
   ]
  },
  {
   "cell_type": "code",
   "execution_count": 11,
   "id": "566511ef",
   "metadata": {},
   "outputs": [],
   "source": [
    "# Multiply ratios array by maximum concentrations vector of variable parameters\n",
    "variable_concentrations_array = np.multiply(levels_array, maximum_variable_concentrations)\n",
    "variable_concentrations_array_shape = np.shape(variable_concentrations_array)\n",
    "nrows_variable_concentrations_array = variable_concentrations_array_shape[0]\n",
    "\n",
    "# Concatenate fixed concentrations arrays\n",
    "GOIDNA_fixed_concentration = np.full((nrows_variable_concentrations_array, 1), 50)\n",
    "GFPDNA_fixed_concentration = np.full((nrows_variable_concentrations_array, 1), 50)\n",
    "\n",
    "final_concentrations_array = np.concatenate((variable_concentrations_array, GOIDNA_fixed_concentration), axis=1)\n",
    "final_concentrations_array = np.concatenate((final_concentrations_array, GFPDNA_fixed_concentration), axis=1)\n",
    "final_concentrations_df = pd.DataFrame(final_concentrations_array)"
   ]
  },
  {
   "cell_type": "code",
   "execution_count": 12,
   "id": "fbdee32a",
   "metadata": {},
   "outputs": [],
   "source": [
    "all_parameters = parameters['Parameter'].tolist()\n",
    "output = final_concentrations_df.to_csv('initial_plate.csv', header=all_parameters)"
   ]
  }
 ],
 "metadata": {
  "kernelspec": {
   "display_name": "Python 3 (ipykernel)",
   "language": "python",
   "name": "python3"
  },
  "language_info": {
   "codemirror_mode": {
    "name": "ipython",
    "version": 3
   },
   "file_extension": ".py",
   "mimetype": "text/x-python",
   "name": "python",
   "nbconvert_exporter": "python",
   "pygments_lexer": "ipython3",
   "version": "3.9.5"
  }
 },
 "nbformat": 4,
 "nbformat_minor": 5
}
