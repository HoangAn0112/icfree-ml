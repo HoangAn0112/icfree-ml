{
 "cells": [
  {
   "cell_type": "markdown",
   "id": "fcc74a3b",
   "metadata": {},
   "source": [
    "### Import Python packages"
   ]
  },
  {
   "cell_type": "code",
   "execution_count": 422,
   "id": "4ed0a960",
   "metadata": {},
   "outputs": [],
   "source": [
    "import pandas as pd #Python data analysis package\n",
    "import numpy as np #Fundamental package for scientific computing in Python\n",
    "from pyDOE2 import * #Experimental design package for Python"
   ]
  },
  {
   "cell_type": "markdown",
   "id": "53fa6f70",
   "metadata": {},
   "source": [
    "### Process user input"
   ]
  },
  {
   "cell_type": "code",
   "execution_count": 423,
   "id": "01a3ca28",
   "metadata": {},
   "outputs": [],
   "source": [
    "# Define csv input file\n",
    "input_file = 'proCFPS_parameters.csv'\n",
    "\n",
    "# Import csv input file into a dataframe\n",
    "input = pd.read_csv(input_file)"
   ]
  },
  {
   "cell_type": "markdown",
   "id": "72abaae7",
   "metadata": {},
   "source": [
    "### Recover fixed parameters, variable parameters and maximum concentrations"
   ]
  },
  {
   "cell_type": "code",
   "execution_count": 424,
   "id": "bfc50f10",
   "metadata": {},
   "outputs": [],
   "source": [
    "for status in input.columns:\n",
    "    \n",
    "    if (input[status] == 'fixed').any():\n",
    "        fixed_parameters = input[input['Status'] == 'fixed']\n",
    "        maximum_fixed_concentrations = fixed_parameters['Maximum concentration'].tolist()\n",
    "        fixed_parameters = fixed_parameters['Parameter'].to_numpy()\n",
    "        n_fixed_parameters = np.shape(fixed_parameters)[0]\n",
    "    \n",
    "    if (input[status] == 'variable').any():\n",
    "        variable_parameters = input[input['Status'] == 'variable']\n",
    "        maximum_variable_concentrations = variable_parameters['Maximum concentration'].to_numpy()\n",
    "        maximum_variable_concentrations = np.reshape(maximum_variable_concentrations, (1, n_variable_parameters))\n",
    "        variable_parameters = variable_parameters['Parameter'].to_numpy()\n",
    "        n_variable_parameters = np.shape(variable_parameters)[0]"
   ]
  },
  {
   "cell_type": "markdown",
   "id": "7ce28e25",
   "metadata": {},
   "source": [
    "### Latin hypercube sampling"
   ]
  },
  {
   "cell_type": "code",
   "execution_count": 425,
   "id": "9538217a",
   "metadata": {},
   "outputs": [],
   "source": [
    "# Define number of parameters to be sampled\n",
    "n_parameters = n_variable_parameters\n",
    "\n",
    "# Define number of samples to generate\n",
    "n_samples = 100\n",
    "\n",
    "# Define number of parameters' concentration ratios\n",
    "n_ratios = 5\n",
    "\n",
    "# Perform latin hypercube sampling\n",
    "sampling = lhs(n_parameters, samples=n_samples)"
   ]
  },
  {
   "cell_type": "code",
   "execution_count": 426,
   "id": "b95c0e4a",
   "metadata": {},
   "outputs": [],
   "source": [
    "# Define levels\n",
    "levels = (1 / n_ratios)\n",
    "\n",
    "level_1 = levels*0\n",
    "level_2 = levels*1\n",
    "level_3 = levels*3\n",
    "level_4 = levels*4\n",
    "level_5 = levels*5\n",
    "\n",
    "# Generate multi-level list \n",
    "levels_list = []\n",
    "\n",
    "for sample in sampling:\n",
    "    new_sample = []\n",
    "    \n",
    "    for parameter in sample:\n",
    "\n",
    "        if parameter >= level_1 and parameter < level_2:\n",
    "            new_sample.append(level_1)\n",
    "            continue\n",
    "        \n",
    "        if parameter >= level_2 and parameter < level_3:\n",
    "            new_sample.append(level_2)\n",
    "            continue\n",
    "        \n",
    "        if parameter >= level_3 and parameter < level_4:\n",
    "            new_sample.append(level_3)\n",
    "            continue\n",
    "        \n",
    "        if parameter >= level_4 and parameter < level_5:\n",
    "            new_sample.append(level_4)\n",
    "            continue\n",
    "            \n",
    "        if parameter >= level_5:\n",
    "            new_sample.append(level_5)\n",
    "            continue\n",
    "\n",
    "    levels_list.append(new_sample)\n",
    "\n",
    "# Convert multi-level list to a multi-level array\n",
    "levels_array = np.asarray(levels_list)"
   ]
  },
  {
   "cell_type": "markdown",
   "id": "4001f674",
   "metadata": {},
   "source": [
    "### Generate concentrations array for variable parameters"
   ]
  },
  {
   "cell_type": "code",
   "execution_count": 427,
   "id": "566511ef",
   "metadata": {},
   "outputs": [
    {
     "data": {
      "text/plain": [
       "float"
      ]
     },
     "execution_count": 427,
     "metadata": {},
     "output_type": "execute_result"
    }
   ],
   "source": [
    "# Multiply ratios array by maximum concentrations vector of variable parameters\n",
    "variable_concentrations_array = np.multiply(levels_array, maximum_variable_concentrations)\n",
    "type(maximum_fixed_concentration)"
   ]
  },
  {
   "cell_type": "markdown",
   "id": "7876d9cd",
   "metadata": {},
   "source": [
    "### Generate concentrations array for fixed parameters"
   ]
  },
  {
   "cell_type": "code",
   "execution_count": 428,
   "id": "2b65aa80",
   "metadata": {},
   "outputs": [],
   "source": [
    "nrows_variable_concentrations_array = np.shape(variable_concentrations_array)[0]\n",
    "fixed_concentrations_array_list = []\n",
    "\n",
    "for maximum_fixed_concentration in maximum_fixed_concentrations:\n",
    "    fixed_concentrations_array = np.full(nrows_variable_concentrations_array, maximum_fixed_concentration)\n",
    "    fixed_concentrations_array_list.append(fixed_concentrations_array)\n",
    "\n",
    "fixed_concentrations_array = np.stack(fixed_concentrations_array_list, axis=-1)"
   ]
  },
  {
   "cell_type": "markdown",
   "id": "1e744452",
   "metadata": {},
   "source": [
    "### Define control samples"
   ]
  },
  {
   "cell_type": "code",
   "execution_count": 429,
   "id": "695144ee",
   "metadata": {},
   "outputs": [],
   "source": [
    "# Define control sample 1 (Maximum concentration): all parameters at maximum concentration\n",
    "maximum_concentrations_dict = dict(input[['Parameter', 'Maximum concentration']].to_numpy())\n",
    "maximum_concentrations_sample = np.fromiter(maximum_concentrations_dict.values(), dtype=float)\n",
    "\n",
    "# Define control sample 2 (Autolfuorescence): control sample 1 minus DNA \n",
    "autofluorescence_dict = maximum_concentrations_dict\n",
    "\n",
    "if 'GOI-DNA' in autofluorescence_dict:\n",
    "    autofluorescence_dict['GOI-DNA']=0\n",
    "\n",
    "if 'GFP-DNA' in autofluorescence_dict:\n",
    "    autofluorescence_dict['GFP-DNA']=0\n",
    "\n",
    "autofluorescence_sample = np.fromiter(autofluorescence_dict.values(), dtype=float)\n",
    "\n",
    "# Generate one single control array\n",
    "nrows_autofluorescence_sample = np.shape(autofluorescence_sample)[0]\n",
    "autofluorescence_sample = np.reshape(autofluorescence_sample, (1, nrows_autofluorescence_sample))\n",
    "\n",
    "nrows_maximum_concentrations_sample = np.shape(maximum_concentrations_sample)[0]\n",
    "maximum_concentrations_sample = np.reshape(maximum_concentrations_sample, (1, nrows_maximum_concentrations_sample))\n",
    "\n",
    "control_concentrations_array = np.concatenate((maximum_concentrations_sample, autofluorescence_sample), axis=0)"
   ]
  },
  {
   "cell_type": "markdown",
   "id": "6d2bea0a",
   "metadata": {},
   "source": [
    "### Generate initial concentration plate combinations"
   ]
  },
  {
   "cell_type": "code",
   "execution_count": 430,
   "id": "cb0ee45d",
   "metadata": {},
   "outputs": [],
   "source": [
    "default_concentrations_array = np.concatenate((variable_concentrations_array, fixed_concentrations_array), axis=1)\n",
    "full_concentrations_array = np.concatenate((default_concentrations_array, control_concentrations_array), axis=0)\n",
    "full_concentrations_df = pd.DataFrame(full_concentrations_array)"
   ]
  },
  {
   "cell_type": "markdown",
   "id": "2580f343",
   "metadata": {},
   "source": [
    "### Saving initial concentration plate combinations into a csv file"
   ]
  },
  {
   "cell_type": "code",
   "execution_count": 431,
   "id": "fbdee32a",
   "metadata": {},
   "outputs": [],
   "source": [
    "all_parameters = input['Parameter'].tolist()\n",
    "output = full_concentrations_df.to_csv('initial_plate.csv', header=all_parameters)"
   ]
  }
 ],
 "metadata": {
  "kernelspec": {
   "display_name": "Python 3 (ipykernel)",
   "language": "python",
   "name": "python3"
  },
  "language_info": {
   "codemirror_mode": {
    "name": "ipython",
    "version": 3
   },
   "file_extension": ".py",
   "mimetype": "text/x-python",
   "name": "python",
   "nbconvert_exporter": "python",
   "pygments_lexer": "ipython3",
   "version": "3.9.5"
  }
 },
 "nbformat": 4,
 "nbformat_minor": 5
}
