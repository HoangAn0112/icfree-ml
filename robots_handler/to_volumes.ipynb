{
 "cells": [
  {
   "cell_type": "code",
   "execution_count": 145,
   "metadata": {},
   "outputs": [],
   "source": [
    "from numpy import(\n",
    "    fromiter,\n",
    "    around, \n",
    "    shape,\n",
    "    reshape,\n",
    "    multiply\n",
    ")\n",
    "\n",
    "from pandas import (\n",
    "    read_csv,\n",
    "    DataFrame\n",
    ")\n",
    "\n",
    "import sys"
   ]
  },
  {
   "cell_type": "code",
   "execution_count": 146,
   "metadata": {},
   "outputs": [],
   "source": [
    "def input_importer(input_file_1, input_file_2) -> DataFrame:\n",
    "\n",
    "    input_df_1 = read_csv(input_file_1, sep='\\t')\n",
    "    input_df_2 = read_csv(input_file_2, sep='\\t')\n",
    "\n",
    "    return input_df_1, input_df_2"
   ]
  },
  {
   "cell_type": "code",
   "execution_count": 156,
   "metadata": {},
   "outputs": [],
   "source": [
    "def volumes_array_generator(input_df_1, input_df_2, sample_volume):\n",
    "\n",
    "    stock_concentrations_dict = dict(\n",
    "        input_df_2[['Parameter', 'Stock concentration']].to_numpy())\n",
    "    stock_concentrations_array = fromiter(\n",
    "        stock_concentrations_dict.values(),\n",
    "        dtype=float)\n",
    "\n",
    "    stock_concentrations_array = sample_volume / stock_concentrations_array / 0.0025\n",
    "    volumes_array = multiply(input_df_1, stock_concentrations_array)\n",
    "    volumes_array = volumes_array * 0.0025\n",
    "\n",
    "    return stock_concentrations_array, volumes_array"
   ]
  },
  {
   "cell_type": "code",
   "execution_count": 157,
   "metadata": {},
   "outputs": [],
   "source": [
    "def main():\n",
    "    input_file_1 = 'initial_training_set.tsv'\n",
    "    input_file_2 = 'proCFPS_parameters.tsv'\n",
    "    input_importer(input_file_1, input_file_2)\n",
    "    \n",
    "    input_df_1 = input_importer(input_file_1, input_file_2)[0]\n",
    "    input_df_2 = input_importer(input_file_1, input_file_2)[1]\n",
    "    \n",
    "    sample_volume = 10.5\n",
    "    volumes_array = volumes_array_generator(input_df_1, input_df_2, sample_volume)[1]\n",
    "\n",
    "\n",
    "if __name__ == \"__main__\":\n",
    "    main()"
   ]
  }
 ],
 "metadata": {
  "interpreter": {
   "hash": "bef406ae0ad1ee1b77d8e3df0c6c97cb16cb381fd7d33d12af4c9f531e551d56"
  },
  "kernelspec": {
   "display_name": "Python 3.9.5 64-bit ('base': conda)",
   "language": "python",
   "name": "python3"
  },
  "language_info": {
   "codemirror_mode": {
    "name": "ipython",
    "version": 3
   },
   "file_extension": ".py",
   "mimetype": "text/x-python",
   "name": "python",
   "nbconvert_exporter": "python",
   "pygments_lexer": "ipython3",
   "version": "3.9.5"
  },
  "orig_nbformat": 4
 },
 "nbformat": 4,
 "nbformat_minor": 2
}
